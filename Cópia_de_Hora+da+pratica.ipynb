{
  "nbformat": 4,
  "nbformat_minor": 0,
  "metadata": {
    "colab": {
      "provenance": [],
      "include_colab_link": true
    },
    "kernelspec": {
      "name": "python3",
      "display_name": "Python 3"
    },
    "language_info": {
      "name": "python"
    }
  },
  "cells": [
    {
      "cell_type": "markdown",
      "metadata": {
        "id": "view-in-github",
        "colab_type": "text"
      },
      "source": [
        "<a href=\"https://colab.research.google.com/github/viniciusaze/python/blob/main/C%C3%B3pia_de_Hora%2Bda%2Bpratica.ipynb\" target=\"_parent\"><img src=\"https://colab.research.google.com/assets/colab-badge.svg\" alt=\"Open In Colab\"/></a>"
      ]
    },
    {
      "cell_type": "markdown",
      "source": [
        "# Sobre o notebook\n",
        "\n",
        "A \"hora da prática\" é uma atividade do curso de Python para Data Science da Alura que contém diversos desafios envolvendo os aprendizados de cada aula.\n",
        "\n",
        "O notebook \"hora da pratica\" é um notebook construído com espaço para as células dos desafios propostos no curso, com ele você tem espaço para construir e executar suas soluções"
      ],
      "metadata": {
        "id": "_kwAaQ36gLQ1"
      }
    },
    {
      "cell_type": "markdown",
      "source": [
        "## Aula 1 - Introdução ao Python"
      ],
      "metadata": {
        "id": "Mc-KN0dA0Z83"
      }
    },
    {
      "cell_type": "markdown",
      "source": [
        "### Questão 1\n",
        "\n",
        "Imprima a frase `Escola de Dados da Alura!`"
      ],
      "metadata": {
        "id": "l5eLWf0W0ikn"
      }
    },
    {
      "cell_type": "code",
      "source": [
        "print('Escola de Dados da Alura!')"
      ],
      "metadata": {
        "id": "5pllxJ0h0-yA",
        "colab": {
          "base_uri": "https://localhost:8080/"
        },
        "outputId": "1c3c0de3-3424-4072-9ffb-c32b58e2f82b"
      },
      "execution_count": null,
      "outputs": [
        {
          "output_type": "stream",
          "name": "stdout",
          "text": [
            "Escola de Dados da Alura!\n"
          ]
        }
      ]
    },
    {
      "cell_type": "markdown",
      "source": [
        "### Questão 2\n",
        "Imprima na tela seu nome e seu sobrenome seguindo a estrutura abaixo:\n",
        "```\n",
        "Nome: [seu nome]\n",
        "Sobrenome: [seu sobrenome]\n",
        "```\n"
      ],
      "metadata": {
        "id": "tQdX90Ue03c7"
      }
    },
    {
      "cell_type": "code",
      "source": [
        "print('Nome: Vinícius')\n",
        "print('Sobrenome: Azevedo')"
      ],
      "metadata": {
        "id": "RVw5iKn20_Ps",
        "colab": {
          "base_uri": "https://localhost:8080/"
        },
        "outputId": "806ef445-b2b3-4d48-e26d-cea14c71a5ca"
      },
      "execution_count": null,
      "outputs": [
        {
          "output_type": "stream",
          "name": "stdout",
          "text": [
            "Nome: Vinícius\n",
            "Sobrenome: Azevedo\n"
          ]
        }
      ]
    },
    {
      "cell_type": "markdown",
      "source": [
        "### Questão 3\n",
        "Imprima o seu primeiro nome letra a letra. Por exemplo, nome é Mirla, então eu obtenho a seguinte saída:\n",
        "```\n",
        "M\n",
        "I\n",
        "R\n",
        "L\n",
        "A\n",
        "```\n"
      ],
      "metadata": {
        "id": "gfg-aiip03vC"
      }
    },
    {
      "cell_type": "code",
      "source": [
        "print('''V\n",
        "I\n",
        "N\n",
        "I\n",
        "C\n",
        "I\n",
        "U\n",
        "S''')"
      ],
      "metadata": {
        "id": "v5bkrgf60_qx",
        "colab": {
          "base_uri": "https://localhost:8080/"
        },
        "outputId": "874d9ea4-6653-49f4-d9f3-fc8d5ea6a0d9"
      },
      "execution_count": null,
      "outputs": [
        {
          "output_type": "stream",
          "name": "stdout",
          "text": [
            "V\n",
            "I\n",
            "N\n",
            "I\n",
            "C\n",
            "I\n",
            "U\n",
            "S\n"
          ]
        }
      ]
    },
    {
      "cell_type": "markdown",
      "source": [
        "### Questão 4\n",
        "Imprima o dia do seu nascimento em formato `dia mês ano`. Os valores de dia e ano não podem estar entre aspas. O formato deve estar como no exemplo, supondo uma data de aniversário dia 28 de fevereiro de 2003:\n",
        "```\n",
        "28 fevereiro 2003\n",
        "```"
      ],
      "metadata": {
        "id": "oadrJbl704MM"
      }
    },
    {
      "cell_type": "code",
      "source": [
        "print(27, 'Julho', 1995)"
      ],
      "metadata": {
        "id": "cx0KSsrq1ALD",
        "colab": {
          "base_uri": "https://localhost:8080/"
        },
        "outputId": "c8e32956-6acf-4815-9363-e605e190897a"
      },
      "execution_count": null,
      "outputs": [
        {
          "output_type": "stream",
          "name": "stdout",
          "text": [
            "27 Julho 1995\n"
          ]
        }
      ]
    },
    {
      "cell_type": "markdown",
      "source": [
        "### Questão 5\n",
        "Imprima em um único print o atual ano que você está fazendo esse curso, o valor do ano deve ser um dado numérico. A saída do print deve ser a seguinte:\n",
        "```\n",
        "Ano atual: [ano]\n",
        "```\n"
      ],
      "metadata": {
        "id": "3RgyMaan04TD"
      }
    },
    {
      "cell_type": "code",
      "execution_count": null,
      "metadata": {
        "id": "UN77EfQ2d36Y",
        "colab": {
          "base_uri": "https://localhost:8080/"
        },
        "outputId": "b69a076e-5786-4d84-9128-d98409b31c2e"
      },
      "outputs": [
        {
          "output_type": "stream",
          "name": "stdout",
          "text": [
            "Ano atual: 2024\n"
          ]
        }
      ],
      "source": [
        "print('Ano atual:', 2024)"
      ]
    },
    {
      "cell_type": "markdown",
      "source": [
        "## Aula 2 - Manipulando dados no Python"
      ],
      "metadata": {
        "id": "D9e3FqhO1S3X"
      }
    },
    {
      "cell_type": "markdown",
      "source": [
        "### Coleta e amostragem de dados"
      ],
      "metadata": {
        "id": "n6o7C1Ze2cRe"
      }
    },
    {
      "cell_type": "markdown",
      "source": [
        "#### Questão 1\n",
        "Crie um programa que solicite à pessoa usuária digitar seu nome, e imprima “Olá, [nome]!”."
      ],
      "metadata": {
        "id": "sRneWag9PV5Q"
      }
    },
    {
      "cell_type": "code",
      "source": [
        "nome = input('Digite seu nome: ')\n",
        "print(f'Olá, {nome}!')"
      ],
      "metadata": {
        "id": "dbX1fKqy2HnE",
        "outputId": "155c2268-6acf-4cfc-f8aa-efb150ffa5c8",
        "colab": {
          "base_uri": "https://localhost:8080/"
        }
      },
      "execution_count": null,
      "outputs": [
        {
          "output_type": "stream",
          "name": "stdout",
          "text": [
            "Digite seu none: Vinícius\n",
            "Olá, Vinícius\n"
          ]
        }
      ]
    },
    {
      "cell_type": "markdown",
      "source": [
        "#### Questão 2\n",
        "Crie um programa que solicite à pessoa usuária digitar seu nome e idade, e imprima “Olá, [nome], você tem [idade] anos.”."
      ],
      "metadata": {
        "id": "BJ1SznEp70d5"
      }
    },
    {
      "cell_type": "code",
      "source": [
        "nome = input('Digite seu nome: ')\n",
        "idade = int(input('Digite sua idade: '))\n",
        "print(f'Olá, {nome}, você tem {idade} anos.')"
      ],
      "metadata": {
        "id": "jKz-0Sq8PFkp",
        "outputId": "7a1b73b2-8b7d-4593-ceab-d0e758a1c2c6",
        "colab": {
          "base_uri": "https://localhost:8080/"
        }
      },
      "execution_count": null,
      "outputs": [
        {
          "output_type": "stream",
          "name": "stdout",
          "text": [
            "Digite seu nome: Vinícius\n",
            "Digite sua idade28\n",
            "Olá, Vinícius, você tem 28 anos.\n"
          ]
        }
      ]
    },
    {
      "cell_type": "markdown",
      "source": [
        "#### Questão 3\n",
        "Crie um programa que solicite à pessoa usuária digitar seu nome, idade e altura em metros, e imprima “Olá, [nome], você tem [idade] anos e mede [altura] metros!”."
      ],
      "metadata": {
        "id": "2T0jNYZt70aa"
      }
    },
    {
      "cell_type": "code",
      "source": [
        "nome = input('Digite seu nome: ')\n",
        "idade = int(input('Digite sua idade: '))\n",
        "altura = float(input('Digite sua altura (M): '))\n",
        "print(f'Olá, {nome}, você tem {idade} anos e mede {altura} metros.')"
      ],
      "metadata": {
        "id": "pI4kHNzTPIXh",
        "outputId": "baa7c46d-99b4-4937-b597-5e483d97977d",
        "colab": {
          "base_uri": "https://localhost:8080/"
        }
      },
      "execution_count": null,
      "outputs": [
        {
          "output_type": "stream",
          "name": "stdout",
          "text": [
            "Digite seu nome: Vinicius\n",
            "Digite sua idade: 28\n",
            "Digite sua altura (M): 1.77\n",
            "Olá, Vinicius, você tem 28 anos e mede 1.77 metros\n"
          ]
        }
      ]
    },
    {
      "cell_type": "markdown",
      "source": [
        "### Calculadora com operadores"
      ],
      "metadata": {
        "id": "mEBFwKkC70KP"
      }
    },
    {
      "cell_type": "markdown",
      "source": [
        "#### Questão 1\n",
        "\n",
        "Crie um programa que solicite dois valores numéricos à pessoa usuária e imprima a soma dos dois valores."
      ],
      "metadata": {
        "id": "H-IV1oAPPSqK"
      }
    },
    {
      "cell_type": "code",
      "source": [
        "n1 = int(input('Digite o primeiro valor: '))\n",
        "n2 = int(input('Digite o segundo valor: '))\n",
        "soma = n1 + n2\n",
        "print(f'O valor da soma de {n1} e {n2} é de {soma}.')"
      ],
      "metadata": {
        "id": "Zb0W84sy8rnp",
        "outputId": "c215e980-dfc8-45eb-cc41-bae1ea30e5fd",
        "colab": {
          "base_uri": "https://localhost:8080/"
        }
      },
      "execution_count": null,
      "outputs": [
        {
          "output_type": "stream",
          "name": "stdout",
          "text": [
            "Digite o primeiro valor: 4\n",
            "Digite o segundo valor: 6\n",
            "O valor da soma de 4 e 6 é de 10.\n"
          ]
        }
      ]
    },
    {
      "cell_type": "markdown",
      "source": [
        "#### Questão 2\n",
        "Crie um programa que solicite três valores numéricos à pessoa usuária e imprima a soma dos três valores."
      ],
      "metadata": {
        "id": "LUoi2MOu70Em"
      }
    },
    {
      "cell_type": "code",
      "source": [
        "n1 = int(input('Digite o primeiro valor: '))\n",
        "n2 = int(input('Digite o segundo valor: '))\n",
        "n3 = int(input('Digite o terceiro valor: '))\n",
        "soma = n1 + n2 + n3\n",
        "print(f'O valor da soma de {n1}, {n2} e {n3} é de {soma}.')"
      ],
      "metadata": {
        "id": "4FYjWyBS8rDm",
        "outputId": "68b0ed03-dddd-416a-ff7b-4dfe32b851c8",
        "colab": {
          "base_uri": "https://localhost:8080/"
        }
      },
      "execution_count": null,
      "outputs": [
        {
          "output_type": "stream",
          "name": "stdout",
          "text": [
            "Digite o primeiro valor: 9\n",
            "Digite o segundo valor: 5\n",
            "Digite o terceiro valor: 4\n",
            "O valor da soma de 9, 5 e 4 é de 18.\n"
          ]
        }
      ]
    },
    {
      "cell_type": "markdown",
      "source": [
        "#### Questão 3\n",
        "Crie um programa que solicite dois valores numéricos à pessoa usuária e imprima a subtração do primeiro pelo o segundo valor."
      ],
      "metadata": {
        "id": "lezGctF07z8i"
      }
    },
    {
      "cell_type": "code",
      "source": [
        "n1 = int(input('Digite o primeiro valor: '))\n",
        "n2 = int(input('Digite o segundo valor: '))\n",
        "sub = n1 - n2\n",
        "print(f'O valor da subtração de {n1} por {n2} é de {sub}.')"
      ],
      "metadata": {
        "id": "k0GE1z4w8p3J",
        "outputId": "ad2b361e-5f5b-4261-c7f0-7fe50e25fe34",
        "colab": {
          "base_uri": "https://localhost:8080/"
        }
      },
      "execution_count": null,
      "outputs": [
        {
          "output_type": "stream",
          "name": "stdout",
          "text": [
            "Digite o primeiro valor: 8\n",
            "Digite o segundo valor: 4\n",
            "O valor da subtração de 8 por 4 é de 4.\n"
          ]
        }
      ]
    },
    {
      "cell_type": "markdown",
      "source": [
        "#### Questão 4\n",
        "\n",
        "Crie um programa que solicite dois valores numéricos à pessoa usuária e imprima a multiplicação dos dois valores.\n"
      ],
      "metadata": {
        "id": "wwMP-dPU7zxW"
      }
    },
    {
      "cell_type": "code",
      "source": [
        "n1 = int(input('Digite o primeiro valor: '))\n",
        "n2 = int(input('Digite o segundo valor: '))\n",
        "mult = n1 * n2\n",
        "print(f'O valor da multiplicação de {n1} e {n2} é de {mult}.')"
      ],
      "metadata": {
        "id": "GzFCVHfp8peZ",
        "outputId": "328349af-8ae3-4b32-c6d1-fe60580bd561",
        "colab": {
          "base_uri": "https://localhost:8080/"
        }
      },
      "execution_count": null,
      "outputs": [
        {
          "output_type": "stream",
          "name": "stdout",
          "text": [
            "Digite o primeiro valor: 8\n",
            "Digite o segundo valor: 2\n",
            "O valor da multiplicação de 8 e 2 é de 16.\n"
          ]
        }
      ]
    },
    {
      "cell_type": "markdown",
      "source": [
        "#### Questão 5\n",
        "\n",
        "Crie um programa que solicite dois valores numéricos, um numerador e um denominador, e realize a divisão entre os dois valores. Deixe claro que o valor do denominador não pode ser `0`.\n"
      ],
      "metadata": {
        "id": "9kxyHxUo7zRD"
      }
    },
    {
      "cell_type": "code",
      "source": [
        "num = int(input('Digite o numerador: '))\n",
        "den = 0\n",
        "while den == 0:\n",
        "  den = int(input('Digite o denominador: '))\n",
        "  if den == 0:\n",
        "    print('O denominador não pode ter valor 0.')\n",
        "div = num / den\n",
        "print(f'O valor da divisão de {num} e {den} é de {div}.')"
      ],
      "metadata": {
        "id": "ytJ8l5KH8ozc",
        "outputId": "c312aba9-eea8-485a-a252-2598c343fd3e",
        "colab": {
          "base_uri": "https://localhost:8080/"
        }
      },
      "execution_count": null,
      "outputs": [
        {
          "output_type": "stream",
          "name": "stdout",
          "text": [
            "Digite o numerador: 5\n",
            "Digite o denominador: 0\n",
            "O denominador não pode ter valor 0.\n",
            "Digite o denominador: 0\n",
            "O denominador não pode ter valor 0.\n",
            "Digite o denominador: 2\n",
            "O valor da divisão de 5 e 2 é de 2.5.\n"
          ]
        }
      ]
    },
    {
      "cell_type": "markdown",
      "source": [
        "#### Questão 6\n",
        "\n",
        "Crie um programa que solicite dois valores numéricos, um operador e uma potência, e realize a exponenciação entre esses dois valores.\n"
      ],
      "metadata": {
        "id": "zkUSBTQq8Hxt"
      }
    },
    {
      "cell_type": "code",
      "source": [
        "n1 = int(input('Digite o primeiro valor: '))\n",
        "n2 = int(input('Digite o segundo valor: '))\n",
        "exp = n1 ** n2\n",
        "print(f'O valor da exponenciação de {n1} e {n2} é de {exp}.')"
      ],
      "metadata": {
        "id": "RPj36jq08oZp",
        "colab": {
          "base_uri": "https://localhost:8080/"
        },
        "outputId": "26021a38-c61a-4c8e-c2f4-2a487a62304d"
      },
      "execution_count": null,
      "outputs": [
        {
          "output_type": "stream",
          "name": "stdout",
          "text": [
            "Digite o primeiro valor: 6\n",
            "Digite o segundo valor: 2\n",
            "O valor da exponenciação de 6 e 2 é de 36.\n"
          ]
        }
      ]
    },
    {
      "cell_type": "markdown",
      "source": [
        "#### Questão 7\n",
        "Crie um programa que solicite dois valores numéricos, um numerador e um denominador e realize a divisão inteira entre os dois valores. Deixe claro que o valor do denominador não pode ser `0`."
      ],
      "metadata": {
        "id": "yiunIusZ8Huj"
      }
    },
    {
      "cell_type": "code",
      "source": [
        "num = int(input('Digite o numerador: '))\n",
        "den = 0\n",
        "while den == 0:\n",
        "  den = int(input('Digite o denominador: '))\n",
        "  if den == 0:\n",
        "    print('O denominador não pode ter valor 0.')\n",
        "div = num // den\n",
        "print(f'O valor da divisão inteira de {num} e {den} é de {div}.')"
      ],
      "metadata": {
        "id": "UHK8xITf8oCg",
        "colab": {
          "base_uri": "https://localhost:8080/"
        },
        "outputId": "5d5aa4e1-2652-47a9-f901-6395f03e8832"
      },
      "execution_count": null,
      "outputs": [
        {
          "output_type": "stream",
          "name": "stdout",
          "text": [
            "Digite o numerador: 24\n",
            "Digite o denominador: 9\n",
            "O valor da divisão inteira de 24 e 9 é de 2.\n"
          ]
        }
      ]
    },
    {
      "cell_type": "markdown",
      "source": [
        "#### Questão 8\n",
        "\n",
        "Crie um programa que solicite dois valores numéricos, um numerador e um denominador, e retorne o resto da divisão entre os dois valores. Deixe claro que o valor do denominador não pode ser `0`."
      ],
      "metadata": {
        "id": "z_D_JiLX8Hra"
      }
    },
    {
      "cell_type": "code",
      "source": [
        "num = int(input('Digite o numerador: '))\n",
        "den = 0\n",
        "while den == 0:\n",
        "  den = int(input('Digite o denominador: '))\n",
        "  if den == 0:\n",
        "    print('O denominador não pode ter valor 0.')\n",
        "div = num % den\n",
        "print(f'O valor do resto da divisão entre {num} e {den} é de {div}.')"
      ],
      "metadata": {
        "id": "EWGJeukO8nqx",
        "colab": {
          "base_uri": "https://localhost:8080/"
        },
        "outputId": "e61b0f18-c5d5-43cb-a915-b7a4e004ac97"
      },
      "execution_count": null,
      "outputs": [
        {
          "output_type": "stream",
          "name": "stdout",
          "text": [
            "Digite o numerador: 5\n",
            "Digite o denominador: 2\n",
            "O valor do resto da divisão entre 5 e 2 é de 1.\n"
          ]
        }
      ]
    },
    {
      "cell_type": "markdown",
      "source": [
        "#### Questão 9\n",
        "\n",
        "Crie um código que solicita 3 notas de um estudante e imprima a média das notas."
      ],
      "metadata": {
        "id": "RDRajNkU8N8N"
      }
    },
    {
      "cell_type": "code",
      "source": [
        "n1 = int(input('Digite a primeira nota: '))\n",
        "n2 = int(input('Digite a segunda nota: '))\n",
        "media = (n1 + n2) / 2\n",
        "print(f'A média das notas {n1} e {n2} é de {media}.')"
      ],
      "metadata": {
        "id": "H6F4Ojzt8nSR",
        "colab": {
          "base_uri": "https://localhost:8080/"
        },
        "outputId": "926537f6-6ae8-4a32-cc1c-427ea97a90d8"
      },
      "execution_count": null,
      "outputs": [
        {
          "output_type": "stream",
          "name": "stdout",
          "text": [
            "Digite a primeira nota: 5\n",
            "Digite a segunda nota: 3\n",
            "A média das notas 5 e 3 é de 4.0.\n"
          ]
        }
      ]
    },
    {
      "cell_type": "markdown",
      "source": [
        "#### Questão 10\n",
        "\n",
        "Crie um código que calcule e imprima a média ponderada dos números 5, 12, 20 e 15 com pesos respectivamente iguais a 1, 2, 3 e 4."
      ],
      "metadata": {
        "id": "d7fjkne58N21"
      }
    },
    {
      "cell_type": "code",
      "source": [
        "media_ponderada = (5*1 + 12*2 + 20*3 + 15*4) / 1 + 2 + 3 + 4\n",
        "print(media_ponderada)"
      ],
      "metadata": {
        "id": "fwjoHlV48mkv",
        "colab": {
          "base_uri": "https://localhost:8080/"
        },
        "outputId": "982ade26-399f-4da0-8090-6a40c77e7af2"
      },
      "execution_count": null,
      "outputs": [
        {
          "output_type": "stream",
          "name": "stdout",
          "text": [
            "158.0\n"
          ]
        }
      ]
    },
    {
      "cell_type": "markdown",
      "source": [
        "### Editando textos"
      ],
      "metadata": {
        "id": "GNmbX1OU8N0V"
      }
    },
    {
      "cell_type": "markdown",
      "source": [
        "#### Questão 1\n",
        "\n",
        "Crie uma variável chamada “`frase`” e atribua a ela uma string de sua escolha. Em seguida, imprima a frase na tela."
      ],
      "metadata": {
        "id": "6wZ85mCsRCV0"
      }
    },
    {
      "cell_type": "code",
      "source": [
        "frase = input('Digite sua frase: ')\n",
        "print(frase)"
      ],
      "metadata": {
        "id": "eRqr_gh-8mFy",
        "colab": {
          "base_uri": "https://localhost:8080/"
        },
        "outputId": "743a2b35-c4b5-4ad7-fea0-5e6b05206ec5"
      },
      "execution_count": null,
      "outputs": [
        {
          "output_type": "stream",
          "name": "stdout",
          "text": [
            "Digite sua frase: Olá a todos!\n",
            "Olá a todos!\n"
          ]
        }
      ]
    },
    {
      "cell_type": "markdown",
      "source": [
        "#### Questão 2\n",
        "Crie um código que solicite uma frase e depois imprima a frase na tela."
      ],
      "metadata": {
        "id": "Aac17z-18Nwv"
      }
    },
    {
      "cell_type": "code",
      "source": [
        "frase = input('Digite sua frase: ')\n",
        "print(frase)"
      ],
      "metadata": {
        "id": "8zfE2hh98lb0"
      },
      "execution_count": null,
      "outputs": []
    },
    {
      "cell_type": "markdown",
      "source": [
        "#### Questão 3\n",
        "\n",
        "Crie um código que solicite uma frase à pessoa usuária e imprima a mesma frase digitada mas com todas as letras maiúsculas."
      ],
      "metadata": {
        "id": "DXVzqpN58Ntr"
      }
    },
    {
      "cell_type": "code",
      "source": [
        "frase = input('Digite sua frase: ')\n",
        "print(frase.upper())"
      ],
      "metadata": {
        "id": "d0VzoYP68k-I",
        "colab": {
          "base_uri": "https://localhost:8080/"
        },
        "outputId": "8c8cd202-4d10-410e-e772-9449905c4c97"
      },
      "execution_count": null,
      "outputs": [
        {
          "output_type": "stream",
          "name": "stdout",
          "text": [
            "Digite sua frase: bora estudar\n",
            "BORA ESTUDAR\n"
          ]
        }
      ]
    },
    {
      "cell_type": "markdown",
      "source": [
        "#### Questão 4\n",
        "\n",
        "Crie um código que solicite uma frase à pessoa usuária e imprima a mesma frase digitada mas com todas as letras minúsculas."
      ],
      "metadata": {
        "id": "I12VeNPK8Nqb"
      }
    },
    {
      "cell_type": "code",
      "source": [
        "frase = input('Digite sua frase: ')\n",
        "print(frase.lower())"
      ],
      "metadata": {
        "id": "KD8rNy2K8kox",
        "colab": {
          "base_uri": "https://localhost:8080/"
        },
        "outputId": "a4c62988-5c49-4bd3-af90-0560f9c13631"
      },
      "execution_count": null,
      "outputs": [
        {
          "output_type": "stream",
          "name": "stdout",
          "text": [
            "Digite sua frase: APRENDENDO \n",
            "aprendendo \n"
          ]
        }
      ]
    },
    {
      "cell_type": "markdown",
      "source": [
        "#### Questão 5\n",
        "\n",
        "Crie uma variável chamada “`frase`” e atribua a ela uma string de sua escolha. Em seguida, imprima a frase sem espaços em branco no início e no fim."
      ],
      "metadata": {
        "id": "cRqngSE48Nog"
      }
    },
    {
      "cell_type": "code",
      "source": [
        "frase = input('Digite sua frase: ')\n",
        "print(frase.strip())"
      ],
      "metadata": {
        "id": "aSCpdF-o8kBs",
        "colab": {
          "base_uri": "https://localhost:8080/"
        },
        "outputId": "971fe322-74f3-449f-a1a5-431b23fb78b7"
      },
      "execution_count": null,
      "outputs": [
        {
          "output_type": "stream",
          "name": "stdout",
          "text": [
            "Digite sua frase:             OLA PESSOAL                 \n",
            "OLA PESSOAL\n"
          ]
        }
      ]
    },
    {
      "cell_type": "markdown",
      "source": [
        "#### Questão 6\n",
        "\n",
        "Crie um código que solicite uma frase à pessoa usuária e imprima a mesma frase sem espaços em branco no início e no fim."
      ],
      "metadata": {
        "id": "murIazpQ8Nkv"
      }
    },
    {
      "cell_type": "code",
      "source": [
        "frase = input('Digite sua frase: ')\n",
        "print(frase.strip())"
      ],
      "metadata": {
        "id": "tHunjwuG8jNq"
      },
      "execution_count": null,
      "outputs": []
    },
    {
      "cell_type": "markdown",
      "source": [
        "#### Questão 7\n",
        "\n",
        "\n",
        "Crie um código que solicite uma frase à pessoa usuária e imprima a mesma frase sem espaços em branco no início e no fim e em letras minúsculas."
      ],
      "metadata": {
        "id": "eRxc2OeX8Nh2"
      }
    },
    {
      "cell_type": "code",
      "source": [
        "frase = input('Digite sua frase: ')\n",
        "print(frase.strip().lower())"
      ],
      "metadata": {
        "id": "DYm0_UwS8ih6",
        "colab": {
          "base_uri": "https://localhost:8080/"
        },
        "outputId": "3ffc29d1-dc85-4029-cb1a-4c00fd2d1b72"
      },
      "execution_count": null,
      "outputs": [
        {
          "output_type": "stream",
          "name": "stdout",
          "text": [
            "Digite sua frase: Bom dia               \n",
            "bom dia\n"
          ]
        }
      ]
    },
    {
      "cell_type": "markdown",
      "source": [
        "#### Questão 8\n",
        "\n",
        "Crie um código que solicite uma frase à pessoa usuária e imprima a mesma frase com todas as vogais “`e`” trocadas pela letra “`f`”."
      ],
      "metadata": {
        "id": "UKATLavs8NfI"
      }
    },
    {
      "cell_type": "code",
      "source": [
        "frase = input('Digite sua frase: ')\n",
        "print(frase.replace('e', 'f'))"
      ],
      "metadata": {
        "id": "k64C5G5S8iLO",
        "colab": {
          "base_uri": "https://localhost:8080/"
        },
        "outputId": "f83f1caf-c5b3-444e-93f7-6bd91f119756"
      },
      "execution_count": null,
      "outputs": [
        {
          "output_type": "stream",
          "name": "stdout",
          "text": [
            "Digite sua frase: Pessoal, vamos aprender\n",
            "Pfssoal, vamos aprfndfr\n"
          ]
        }
      ]
    },
    {
      "cell_type": "markdown",
      "source": [
        "#### Questão 9\n",
        "\n",
        "\n",
        "Crie um código que solicite uma frase à pessoa usuária e imprima a mesma frase com todas as vogais “`a`” trocadas pela caractere  “`@`”."
      ],
      "metadata": {
        "id": "n_1SPchw8NdG"
      }
    },
    {
      "cell_type": "code",
      "source": [
        "frase = input('Digite sua frase: ')\n",
        "print(frase.replace('a', '@'))"
      ],
      "metadata": {
        "id": "msaDNm_p8h0D",
        "colab": {
          "base_uri": "https://localhost:8080/"
        },
        "outputId": "1a653c47-7fc1-42aa-a42a-7b21f002b147"
      },
      "execution_count": null,
      "outputs": [
        {
          "output_type": "stream",
          "name": "stdout",
          "text": [
            "Digite sua frase: Bora estudar\n",
            "Bor@ estud@r\n"
          ]
        }
      ]
    },
    {
      "cell_type": "markdown",
      "source": [
        "#### Questão 10\n",
        "\n",
        "\n",
        "Crie um código que solicite uma frase à pessoa usuária e imprima a mesma frase com todas as consoantes “`s`” trocadas pelo caractere  “`$`”."
      ],
      "metadata": {
        "id": "H3sTTjqI8Naa"
      }
    },
    {
      "cell_type": "code",
      "source": [
        "frase = input('Digite sua frase: ')\n",
        "print(frase.replace('s', '$'))"
      ],
      "metadata": {
        "id": "RPBIsWT68e-1",
        "colab": {
          "base_uri": "https://localhost:8080/"
        },
        "outputId": "5a2d76ce-62d0-463c-be0b-47ee8973f572"
      },
      "execution_count": null,
      "outputs": [
        {
          "output_type": "stream",
          "name": "stdout",
          "text": [
            "Digite sua frase: Vamos todos juntos\n",
            "Vamo$ todo$ junto$\n"
          ]
        }
      ]
    },
    {
      "cell_type": "markdown",
      "source": [
        "## Aula 3 - Estruturas condicionais"
      ],
      "metadata": {
        "id": "XGePe4GD2I59"
      }
    },
    {
      "cell_type": "markdown",
      "source": [
        "### Aquecendo na programação"
      ],
      "metadata": {
        "id": "Pr9HTW0UHCdD"
      }
    },
    {
      "cell_type": "markdown",
      "source": [
        "#### Questão 1\n",
        "Escreva um programa que peça à pessoa usuária para fornecer dois números e exibir o número maior."
      ],
      "metadata": {
        "id": "xBZHqhVg80Fy"
      }
    },
    {
      "cell_type": "code",
      "source": [
        "n1 = int(input('Digite um número: '))\n",
        "n2 = int(input('Digite outro número: '))\n",
        "\n",
        "if n1 > n2:\n",
        "  print(f'{n1} é maior que {n2}')\n",
        "elif n2 > n1:\n",
        "  print(f'{n2} é maior que {n1}')\n",
        "else:\n",
        "  print(f'{n1} e {n2} tem o mesmo valor')"
      ],
      "metadata": {
        "id": "GJlGnzjc-xyF",
        "colab": {
          "base_uri": "https://localhost:8080/"
        },
        "outputId": "19919622-09a8-4fc3-e6c1-0fd921a541fb"
      },
      "execution_count": null,
      "outputs": [
        {
          "output_type": "stream",
          "name": "stdout",
          "text": [
            "Digite um número: 8\n",
            "Digite outro número: 8\n",
            "8 e 8 tem o mesmo valor\n"
          ]
        }
      ]
    },
    {
      "cell_type": "markdown",
      "source": [
        "#### Questão 2\n",
        "Escreva um programa que solicite o percentual de crescimento de produção de uma empresa e informe se houve um crescimento (porcentagem positiva) ou decrescimento (porcentagem negativa)."
      ],
      "metadata": {
        "id": "H4sgN7dyHNJF"
      }
    },
    {
      "cell_type": "code",
      "source": [
        "producao = float(input('Informe o percentual de crescimento da produção: '))\n",
        "\n",
        "if producao > 0:\n",
        "  print(f'Houve um crescimento de {producao}% na produção')\n",
        "elif producao < 0:\n",
        "  print(f'A produção teve um decrescimento de {producao}%')\n",
        "else:\n",
        "  print('A produção não obteve crescimento nem decrescimento')"
      ],
      "metadata": {
        "id": "-2_Ry5XJ-yZW",
        "colab": {
          "base_uri": "https://localhost:8080/"
        },
        "outputId": "52806926-8130-416a-8662-9eda2f425e9a"
      },
      "execution_count": null,
      "outputs": [
        {
          "output_type": "stream",
          "name": "stdout",
          "text": [
            "Informe o percentual de crescimento da produção: -3\n",
            "A produção teve um decrescimento de -3.0%\n"
          ]
        }
      ]
    },
    {
      "cell_type": "markdown",
      "source": [
        "#### Questão 3\n",
        "Escreva um programa que determine se uma letra fornecida pela pessoa usuária é uma vogal ou consoante."
      ],
      "metadata": {
        "id": "a_mzNOBDHNny"
      }
    },
    {
      "cell_type": "code",
      "source": [
        "letra = input('Digite uma letra: ').lower()\n",
        "\n",
        "if letra in 'aeiou':\n",
        "  print(f'A letra {letra.upper()} é uma vogal')\n",
        "else:\n",
        "  print(f'A letra {letra.upper()} é uma consoante')"
      ],
      "metadata": {
        "id": "NbgndVyg-zFJ",
        "colab": {
          "base_uri": "https://localhost:8080/"
        },
        "outputId": "4f8fcad2-5f89-484c-ba3e-8bf464f2776c"
      },
      "execution_count": null,
      "outputs": [
        {
          "output_type": "stream",
          "name": "stdout",
          "text": [
            "Digite uma letra: u\n",
            "A letra U é uma vogal\n"
          ]
        }
      ]
    },
    {
      "cell_type": "markdown",
      "source": [
        "#### Questão 4\n",
        "Escreva um programa que leia valores médios de preços de um modelo de carro por 3 anos consecutivos e exiba o valor mais alto e mais baixo entre esses três anos."
      ],
      "metadata": {
        "id": "mofMRjSZHP99"
      }
    },
    {
      "cell_type": "code",
      "source": [
        "ano1 = float(input('Valor medio no primeiro ano: '))\n",
        "ano2 = float(input('Valor medio no segundo ano: '))\n",
        "ano3 = float(input('Valor medio no terceiro ano: '))\n",
        "\n",
        "maior = ano1\n",
        "menor = ano1\n",
        "if ano2 > ano1 and ano2 > ano3:\n",
        "  maior = ano2\n",
        "elif ano3 > ano1 and ano3 > ano2:\n",
        "  maior = ano3\n",
        "\n",
        "if ano2 < ano1 and ano2 < ano3:\n",
        "  menor = ano2\n",
        "elif ano3 < ano1 and ano3 < ano2:\n",
        "  menor = ano3\n",
        "\n",
        "print(f'O maior valor lido foi de {maior}')\n",
        "print(f'O menor valor lido foi de {menor}')\n"
      ],
      "metadata": {
        "id": "TX--d3k9-02c",
        "colab": {
          "base_uri": "https://localhost:8080/"
        },
        "outputId": "717e031d-0b68-41fa-ad52-0679262d840d"
      },
      "execution_count": null,
      "outputs": [
        {
          "output_type": "stream",
          "name": "stdout",
          "text": [
            "Valor medio no primeiro ano: 5400\n",
            "Valor medio no segundo ano: 8000\n",
            "Valor medio no terceiro ano: 4900\n",
            "O maior valor lido foi de 8000.0\n",
            "O menor valor lido foi de 4900.0\n"
          ]
        }
      ]
    },
    {
      "cell_type": "markdown",
      "source": [
        "#### Questão 5\n",
        "Escreva um programa que pergunte sobre o preço de três produtos e indique qual é o produto mais barato para comprar."
      ],
      "metadata": {
        "id": "jY5tIwd-HQzc"
      }
    },
    {
      "cell_type": "code",
      "source": [
        "produto1 = float(input('Valor do produto: '))\n",
        "produto2 = float(input('Valor do produto: '))\n",
        "produto3 = float(input('Valor do produto: '))\n",
        "\n",
        "barato = produto1\n",
        "\n",
        "if produto1 > produto2 and produto3 > produto2:\n",
        "  barato = produto2\n",
        "elif produto1 > produto3 and produto2 > produto3:\n",
        "  barato = produto3\n",
        "\n",
        "print(f'O produto mais barato custa {barato}')\n"
      ],
      "metadata": {
        "id": "sYqNh9df-0gk",
        "colab": {
          "base_uri": "https://localhost:8080/"
        },
        "outputId": "2e625207-4d92-46c9-c253-b4f906091f2c"
      },
      "execution_count": null,
      "outputs": [
        {
          "output_type": "stream",
          "name": "stdout",
          "text": [
            "Valor do produto: 8\n",
            "Valor do produto: 5\n",
            "Valor do produto: 7\n",
            "O produto mais barato custa 5.0\n"
          ]
        }
      ]
    },
    {
      "cell_type": "markdown",
      "source": [
        "#### Questão 6\n",
        "Escreva um programa que leia três números e os exiba em ordem decrescente."
      ],
      "metadata": {
        "id": "1r6aVxtTHR4E"
      }
    },
    {
      "cell_type": "code",
      "source": [
        "n1 = int(input('Digite o primeiro número: '))\n",
        "n2 = int(input('Digite o segundo número: '))\n",
        "n3 = int(input('Digite o terceiro número: '))\n",
        "\n",
        "maior = n3\n",
        "medio = n2\n",
        "menor = n1\n",
        "\n",
        "if n1 > n2 and n1 > n3:\n",
        "  maior = n1\n",
        "elif n2 > n1 and n2 > n3:\n",
        "  maior = n2\n",
        "\n",
        "if n1 > n3 and n1 < n2:\n",
        "  medio = n1\n",
        "elif n3 < n1 and n3 > n2:\n",
        "  medio = n3\n",
        "\n",
        "if n2 < n1 and n2 < n3:\n",
        "  menor = n2\n",
        "elif n3 < n1 and n3 < n2:\n",
        "  menor = n3\n",
        "\n",
        "print(maior, medio, menor)"
      ],
      "metadata": {
        "id": "ydOCYUMO-0Hk",
        "colab": {
          "base_uri": "https://localhost:8080/"
        },
        "outputId": "e7db15cc-9ba8-4b26-828f-53fd6bf86672"
      },
      "execution_count": null,
      "outputs": [
        {
          "output_type": "stream",
          "name": "stdout",
          "text": [
            "Digite o primeiro número: 8\n",
            "Digite o segundo número: 1\n",
            "Digite o terceiro número: 5\n",
            "8 5 1\n"
          ]
        }
      ]
    },
    {
      "cell_type": "markdown",
      "source": [
        "#### Questão 7\n",
        "Escreva um programa que pergunte em qual turno a pessoa usuária estuda (\"manhã\", \"tarde\" ou \"noite\") e exiba a mensagem \"Bom Dia!\", \"Boa Tarde!\", \"Boa Noite!\", ou \"Valor Inválido!\", conforme o caso."
      ],
      "metadata": {
        "id": "inW3F-hAHS_X"
      }
    },
    {
      "cell_type": "code",
      "source": [
        "turno = input('Qual seu turno de estudo? ').upper()[0]\n",
        "\n",
        "if turno in 'M':\n",
        "  print('Bom Dia!')\n",
        "elif turno in 'T':\n",
        "  print('Boa Tarde!')\n",
        "elif turno in 'N':\n",
        "  print('Boa Noite!')\n",
        "else:\n",
        "  print('Valor Inválido!')"
      ],
      "metadata": {
        "id": "-_q-Pcr_-zth",
        "colab": {
          "base_uri": "https://localhost:8080/"
        },
        "outputId": "2e50e83a-7dce-4508-ddc8-5ca9ab973f15"
      },
      "execution_count": null,
      "outputs": [
        {
          "output_type": "stream",
          "name": "stdout",
          "text": [
            "Qual seu turno de estudo? noite\n",
            "Boa Noite!\n"
          ]
        }
      ]
    },
    {
      "cell_type": "markdown",
      "source": [
        "#### Questão 8\n",
        "Escreva um programa que peça um número inteiro à pessoa usuária e determine se ele é par ou ímpar. Dica: Você pode utilizar o operador módulo `%`."
      ],
      "metadata": {
        "id": "NCCPF3QqHTw-"
      }
    },
    {
      "cell_type": "code",
      "source": [
        "n = int(input('Digite um número: '))\n",
        "\n",
        "if n % 2 == 0:\n",
        "  print(f'{n} é PAR')\n",
        "else:\n",
        "  print(f'{n} é ÍMPAR')"
      ],
      "metadata": {
        "id": "OmZJt1nQ-3e6",
        "colab": {
          "base_uri": "https://localhost:8080/"
        },
        "outputId": "bc5a5310-db23-4adc-f32d-f68247545bf9"
      },
      "execution_count": null,
      "outputs": [
        {
          "output_type": "stream",
          "name": "stdout",
          "text": [
            "Digite um número: 7\n",
            "7 é ÍMPAR\n"
          ]
        }
      ]
    },
    {
      "cell_type": "markdown",
      "source": [
        "#### Questão 9\n",
        "Escreva um programa que peça um número à pessoa usuária e informe se ele é inteiro ou decimal."
      ],
      "metadata": {
        "id": "h93Ck1tQHUwE"
      }
    },
    {
      "cell_type": "code",
      "source": [
        "num = float(input('Digite um número: '))\n",
        "\n",
        "if num % 1 == 0:\n",
        "    print('O número é inteiro.')\n",
        "else:\n",
        "    print('O número é decimal.')\n"
      ],
      "metadata": {
        "id": "sLMlZcx8-20N",
        "colab": {
          "base_uri": "https://localhost:8080/"
        },
        "outputId": "468c60a4-ba22-4fa9-9f1b-cf8b0f8d8676"
      },
      "execution_count": null,
      "outputs": [
        {
          "output_type": "stream",
          "name": "stdout",
          "text": [
            "Digite um número: 7.6\n",
            "inteiro\n"
          ]
        }
      ]
    },
    {
      "cell_type": "markdown",
      "source": [
        "### Momento dos projetos"
      ],
      "metadata": {
        "id": "bKdXSK1SH_pF"
      }
    },
    {
      "cell_type": "markdown",
      "source": [
        "#### Questão 10\n",
        "Um programa deve ser escrito para ler dois números e, em seguida, perguntar à pessoa usuária qual operação ele deseja realizar. O resultado da operação deve incluir informações sobre o número - se é par ou ímpar, positivo ou negativo e inteiro ou decimal."
      ],
      "metadata": {
        "id": "WBlEyyzsHV86"
      }
    },
    {
      "cell_type": "code",
      "source": [
        "# Coletamos os números a serem operados e solicitamos a operação desejada pela pessoa usuária\n",
        "num1 = float(input('Informe o primeiro número: '))\n",
        "num2 = float(input('Informe o segundo número: '))\n",
        "operacao = input('Informe a operação desejada (+, -, *, /): ')\n",
        "\n",
        "# Verificamos o operador que foi selecionado e executa a operação matemática conforme a seleção\n",
        "if operacao == '+':\n",
        "    resultado = num1 + num2\n",
        "elif operacao == '-':\n",
        "    resultado = num1 - num2\n",
        "elif operacao == '*':\n",
        "    resultado = num1 * num2\n",
        "elif operacao == '/':\n",
        "    resultado = num1 / num2\n",
        "else: # Especificamos um resultado caso a pessoa usuária não digite alguma das operações corretamente.\n",
        "    print('Operação inválida, resultado da operação será 0')\n",
        "    resultado = 0\n",
        "\n",
        "#  Fazemos as mesmas verificações das questões anteriores para fazer o relatório do cálculo entre números\n",
        "if resultado % 1 == 0:\n",
        "    print('O resultado é inteiro.')\n",
        "else:\n",
        "    print('O resultado é decimal.')\n",
        "\n",
        "if resultado > 0:\n",
        "    print('O resultado é positivo.')\n",
        "elif resultado == 0:\n",
        "    print('O resultado é neutro.')\n",
        "else:\n",
        "    print('O resultado é negativo.')\n",
        "\n",
        "if resultado % 2 == 0:\n",
        "    print('O resultado é par.')\n",
        "else:\n",
        "    print('O resultado é ímpar.')\n"
      ],
      "metadata": {
        "id": "3jmahZ0f-2gq"
      },
      "execution_count": null,
      "outputs": []
    },
    {
      "cell_type": "markdown",
      "source": [
        "#### Questão 11\n",
        "Escreva um programa que peça à pessoa usuária três números que representam os lados de um triângulo. O programa deve informar se os valores podem ser utilizados para formar um triângulo e, caso afirmativo, se ele é equilátero, isósceles ou escaleno. Tenha em mente algumas dicas:\n",
        "- Três lados formam um triângulo quando a soma de quaisquer dois lados for maior que o terceiro;\n",
        "- Triângulo Equilátero: três lados iguais;\n",
        "- Triângulo Isósceles: quaisquer dois lados iguais;\n",
        "- Triângulo Escaleno: três lados diferentes;\n"
      ],
      "metadata": {
        "id": "VdnlULxHHW19"
      }
    },
    {
      "cell_type": "code",
      "source": [
        "# Coletamos os lados de um triângulo\n",
        "print('Coletaremos os lados de um triângulo.')\n",
        "lado1 = float(input('Digite o comprimento do primeiro lado: '))\n",
        "lado2 = float(input('Digite o comprimento do segundo lado: '))\n",
        "lado3 = float(input('Digite o comprimento do terceiro lado: '))\n",
        "\n",
        "# Verificamos de os lados formam um triângulo\n",
        "if (lado1 + lado2 > lado3) and (lado2 + lado3 > lado1) and (lado1 + lado3 > lado2):\n",
        "    print('Os valores podem formar um triângulo!')\n",
        "    # comparamos os lados para verificar o tipo de triângulo\n",
        "    if (lado1 == lado2) and (lado2 == lado3):\n",
        "        print('O triângulo é equilátero.')\n",
        "    elif (lado1 != lado2) and (lado2 != lado3) and (lado1 != lado3):\n",
        "        print('O triângulo é escaleno.')\n",
        "    else:\n",
        "        print('O triângulo é isósceles.')\n",
        "else:\n",
        "    print('Os valores não podem formar um triângulo!')\n"
      ],
      "metadata": {
        "id": "0z73sqUO-2Pw"
      },
      "execution_count": null,
      "outputs": []
    },
    {
      "cell_type": "markdown",
      "source": [
        "#### Questão 12\n",
        "Um estabelecimento está vendendo combustíveis com descontos variados. Para o etanol, se a quantidade comprada for até 15 litros, o desconto será de 2% por litro. Caso contrário, será de 4% por litro. Para o diesel, se a quantidade comprada for até 15 litros, o desconto será de 3% por litro. Caso contrário, será de 5% por litro. O preço do litro de diesel é R\\$ 2,00 e o preço do litro de etanol é R\\$ 1,70. Escreva um programa que leia a quantidade de litros vendidos e o tipo de combustível (E para etanol e D para diesel) e calcule o valor a ser pago pelo cliente. Tenha em mente algumas dicas:\n",
        "\n",
        "- O do valor do desconto será a multiplicação entre preço do litro, quantidade de litros e o valor do desconto.\n",
        "- O valor a ser pago por um cliente será o resultado da multiplicação do preço do litro pela quantidade de litros menos o valor de desconto resultante do cálculo.\n"
      ],
      "metadata": {
        "id": "_PpEpOugHXwZ"
      }
    },
    {
      "cell_type": "code",
      "source": [
        "# Coletamos a quantidade de litros e o tipo de combustível,\n",
        "# já deixando o caractere em maiúsculo para facilitar nossa análise\n",
        "quantidade_litros = float(input('Informe a quantidade de litros vendidos: '))\n",
        "tipo_combustivel = input('Informe o tipo de combustível (E para etanol e D para diesel): ').upper()\n",
        "\n",
        "#  Verificamos primeiro o tipo de combustível\n",
        "if tipo_combustivel == 'E':\n",
        "  # Taxamos o valor do preço em litros do etanol\n",
        "  preco_litro = 1.70\n",
        "  # De acordo com o valor da quantidade de litros, taxamos também o desconto\n",
        "  if quantidade_litros <= 15:\n",
        "    desconto = 0.02\n",
        "  else:\n",
        "    desconto = 0.04\n",
        "elif tipo_combustivel == 'D':\n",
        "  # Taxamos o valor do preço em litros do disel\n",
        "  preco_litro = 2.00\n",
        "  # De acordo com o valor da quantidade de litros, taxamos também o desconto\n",
        "  if quantidade_litros <= 15:\n",
        "    desconto = 0.03\n",
        "  else:\n",
        "    desconto = 0.05\n",
        "# Caso ocorra um erro na especificação de tipo de combustível,\n",
        "# consideramos entradas inválidas, e os preços são taxados em 0\n",
        "else:\n",
        "    print('Entradas inválidas!')\n",
        "    preco_litro = 0\n",
        "    desconto = 0\n",
        "\n",
        "# Fazemos o cálculo do valor de desconto, seguido do cálculo do preço descontado\n",
        "valor_desconto = preco_litro * quantidade_litros * desconto\n",
        "valor_pago = preco_litro * quantidade_litros - valor_desconto\n",
        "\n",
        "# Resultado\n",
        "print(f'Valor a ser pago pelo cliente: R$ {valor_pago}')\n"
      ],
      "metadata": {
        "id": "9izoF-0O-1yD"
      },
      "execution_count": null,
      "outputs": []
    },
    {
      "cell_type": "markdown",
      "source": [
        "#### Questão 13\n",
        "Em uma empresa de venda de imóveis você precisa criar um código que analise os dados de vendas anuais para ajudar a diretoria na tomada de decisão. O código precisa coletar os dados de quantidade de venda durante os anos de 2022 e 2023 e fazer um cálculo de variação percentual. A partir do valor da variação, deve ser enviada às seguintes sugestões:\n",
        "- Para variação acima de 20%: bonificação para o time de vendas.\n",
        "- Para variação entre 2% e 20%: pequena bonificação para time de vendas.\n",
        "- Para variação entre 2% e -10%: planejamento de políticas de incentivo às vendas.\n",
        "- Para bonificações abaixo de -10%: corte de gastos.\n"
      ],
      "metadata": {
        "id": "s_XS_D1WHY2R"
      }
    },
    {
      "cell_type": "code",
      "source": [],
      "metadata": {
        "id": "avQrYlUg-w8f"
      },
      "execution_count": null,
      "outputs": []
    },
    {
      "cell_type": "markdown",
      "source": [
        "## Aula 4 - Estruturas de repetição"
      ],
      "metadata": {
        "id": "AuaWh4-d2Itt"
      }
    },
    {
      "cell_type": "markdown",
      "source": [
        "### Aquecendo na programação"
      ],
      "metadata": {
        "id": "6MSqU0sIJRdD"
      }
    },
    {
      "cell_type": "markdown",
      "source": [
        "#### Questão 1\n",
        "Escreva um programa que peça dois números inteiros e imprima todos os números inteiros entre eles."
      ],
      "metadata": {
        "id": "9eGGyCnAJRdQ"
      }
    },
    {
      "cell_type": "code",
      "source": [
        "n1 = int(input('Digite um número: '))\n",
        "n2 = int(input('Digite outro número: '))\n",
        "\n",
        "for numeros in range(n1 + 1, n2 + 1):\n",
        "  print(numeros)"
      ],
      "metadata": {
        "id": "ID1oc1hxJRdQ",
        "colab": {
          "base_uri": "https://localhost:8080/"
        },
        "outputId": "ef0e32d6-c0ae-4fbf-9c2d-fc536d62144c"
      },
      "execution_count": null,
      "outputs": [
        {
          "output_type": "stream",
          "name": "stdout",
          "text": [
            "Digite um número: 5\n",
            "Digite outro número: 14\n",
            "6\n",
            "7\n",
            "8\n",
            "9\n",
            "10\n",
            "11\n",
            "12\n",
            "13\n",
            "14\n"
          ]
        }
      ]
    },
    {
      "cell_type": "markdown",
      "source": [
        "#### Questão 2\n",
        "Escreva um programa para calcular quantos dias levará para a colônia de uma bactéria A ultrapassar ou igualar a colônia de uma bactéria B, com base nas taxas de crescimento de 3% e 1,5% respectivamente. Considere que a colônia A inicia com 4 elementos e a colônia B com 10 elementos."
      ],
      "metadata": {
        "id": "mGonEHYCJRdR"
      }
    },
    {
      "cell_type": "code",
      "source": [
        "colonia_a = 4\n",
        "colonia_b = 10\n",
        "dia = 0\n",
        "while colonia_b >= colonia_a:\n",
        "  crescimento_a = (colonia_a * 3) / 100\n",
        "  colonia_a += crescimento_a\n",
        "  crescimento_b = (colonia_b * 1.5) / 100\n",
        "  colonia_b += crescimento_b\n",
        "  dia += 1\n",
        "print(f'Levarão {dia} dias para a colônia A ultrapassar a colônia B')"
      ],
      "metadata": {
        "id": "wM6FJuoqJRdR",
        "colab": {
          "base_uri": "https://localhost:8080/"
        },
        "outputId": "e52d9635-ff6c-44ae-c8f3-bcae5f7901d7"
      },
      "execution_count": null,
      "outputs": [
        {
          "output_type": "stream",
          "name": "stdout",
          "text": [
            "Levarão 63 dias para a colônia A ultrapassar a colônia B\n"
          ]
        }
      ]
    },
    {
      "cell_type": "markdown",
      "source": [
        "#### Questão 3\n",
        "Para tratar uma quantidade de 15 dados de avaliações de pessoas usuárias de um serviço da empresa, precisamos verificar se as notas são válidas. Então, escreva um programa que vai receber a nota de 0 a 5 de todos os dados e verificar se é um valor válido. Caso seja inserido uma nota acima de 5 ou abaixo de 0, repita até que a pessoa usuária insira um valor válido."
      ],
      "metadata": {
        "id": "UiOZRlqoJRdR"
      }
    },
    {
      "cell_type": "code",
      "source": [
        "for i in range(15):\n",
        "  4\n",
        "  nota = float(input(f'Insira a nota da pessoa usuária {i}: '))\n",
        "\n",
        "  # verifica se a nota está entre 0 e 5\n",
        "  # se estiver, o laço rodará ininterruptamente até ser obtido um valor válido\n",
        "  while (nota < 0) or (nota > 5):\n",
        "    nota = float(input(f'Nota inválida, insira novamente a nota da pessoa usuária {i}: '))\n",
        "\n",
        "print('Verificação feita. Todas as notas são válidas')"
      ],
      "metadata": {
        "id": "3TUAhCxcJRdR",
        "colab": {
          "base_uri": "https://localhost:8080/"
        },
        "outputId": "6e08e356-c0ad-4074-8306-e913f74c8a96"
      },
      "execution_count": null,
      "outputs": [
        {
          "output_type": "stream",
          "name": "stdout",
          "text": [
            "Insira a nota da pessoa usuária 0: 2\n",
            "Insira a nota da pessoa usuária 1: 3\n",
            "Insira a nota da pessoa usuária 2: 1\n",
            "Insira a nota da pessoa usuária 3: 4\n",
            "Insira a nota da pessoa usuária 4: 5\n",
            "Insira a nota da pessoa usuária 5: 5\n",
            "Insira a nota da pessoa usuária 6: 4\n",
            "Insira a nota da pessoa usuária 7: 3\n",
            "Insira a nota da pessoa usuária 8: 2\n",
            "Insira a nota da pessoa usuária 9: 4\n",
            "Insira a nota da pessoa usuária 10: 1\n",
            "Insira a nota da pessoa usuária 11: 0\n",
            "Insira a nota da pessoa usuária 12: 2\n",
            "Insira a nota da pessoa usuária 13: 3\n",
            "Insira a nota da pessoa usuária 14: 3\n",
            "Verificação feita. Todas as notas são válidas\n"
          ]
        }
      ]
    },
    {
      "cell_type": "markdown",
      "source": [
        "#### Questão 4\n",
        "Desenvolva um programa que leia um conjunto indeterminado de temperaturas em Celsius e faça uma análise. Portanto, escreva um programa que leia temperaturas e informe a média delas. A leitura deve ser encerrada ao ser enviado o valor -273°C."
      ],
      "metadata": {
        "id": "ABv3KObGJRdR"
      }
    },
    {
      "cell_type": "code",
      "source": [
        "while True:\n",
        "  temperatura = float(input('Informe a temperatura em ºC [-273 para]: '))\n",
        "  if temperatura == -273:\n",
        "    break\n",
        "print('Registro de temperaturas finalizado.')"
      ],
      "metadata": {
        "id": "85tBBj5KJRdS",
        "colab": {
          "base_uri": "https://localhost:8080/"
        },
        "outputId": "745b4475-bd2c-4e1d-c270-f623e22adae7"
      },
      "execution_count": null,
      "outputs": [
        {
          "name": "stdout",
          "output_type": "stream",
          "text": [
            "Informe a temperatura em ºC [-273 para]: 8\n",
            "Informe a temperatura em ºC [-273 para]: 6\n",
            "Informe a temperatura em ºC [-273 para]: 2\n",
            "Informe a temperatura em ºC [-273 para]: 40\n",
            "Informe a temperatura em ºC [-273 para]: 33\n",
            "Informe a temperatura em ºC [-273 para]: -273\n"
          ]
        }
      ]
    },
    {
      "cell_type": "markdown",
      "source": [
        "#### Questão 5\n",
        "Escreva um programa que calcule o fatorial de um número inteiro fornecido pela pessoa usuária. O fatorial de um número inteiro é a multiplicação desse número por todos os seus antecessores até o número 1. Por exemplo, o fatorial de 5 é 5 x 4 x 3 x 2 x 1 = 120."
      ],
      "metadata": {
        "id": "IjkbAfGcJRdS"
      }
    },
    {
      "cell_type": "code",
      "source": [
        "# Pedir o número\n",
        "num = int(input('Informe um número inteiro: '))\n",
        "\n",
        "# Inicializar o cálculo\n",
        "fatorial = 1\n",
        "\n",
        "# nosso contador inicializa com o número máximo\n",
        "# e será feita uma contagem decrescente com o operador -=\n",
        "i = num\n",
        "while i > 0:\n",
        "    # queremos multiplicar agora o valor do fatorial pelo num\n",
        "    # e todos os números abaixo dele até 1\n",
        "    fatorial *= i\n",
        "    i -= 1\n",
        "\n",
        "# Imprimir o cálculo do fatorial\n",
        "print(f'Fatorial de {num} é {fatorial}')"
      ],
      "metadata": {
        "id": "7RTH8o0HJRdS"
      },
      "execution_count": null,
      "outputs": []
    },
    {
      "cell_type": "markdown",
      "source": [
        "### Momento dos projetos"
      ],
      "metadata": {
        "id": "oGNKuQjsJRdT"
      }
    },
    {
      "cell_type": "markdown",
      "source": [
        "#### Questão 6\n",
        "Escreva um programa que gere a tabuada de um número inteiro de 1 a 10, de acordo com a escolha da pessoa usuária. Como exemplo, para o número 2, a tabuada deve ser mostrada no seguinte formato:\n",
        "```\n",
        "Tabuada do 2:\n",
        "2 x 1 = 2\n",
        "2 x 2 = 4\n",
        "[...]\n",
        "2 x 10 = 20\n",
        "```"
      ],
      "metadata": {
        "id": "ODxaTUYmJRdS"
      }
    },
    {
      "cell_type": "code",
      "source": [
        "num = int(input('Número do cálculo da tabuada: '))\n",
        "for n in range(1, 11):\n",
        "  print(f'{num} x {n} = {num*n}')"
      ],
      "metadata": {
        "id": "lkTlbxPIJRdS",
        "colab": {
          "base_uri": "https://localhost:8080/"
        },
        "outputId": "a1f18007-2441-4f3a-dfc9-b764ae87aed4"
      },
      "execution_count": null,
      "outputs": [
        {
          "output_type": "stream",
          "name": "stdout",
          "text": [
            "Número do cálculo da tabuada: 5\n",
            "5 x 1 = 5\n",
            "5 x 2 = 10\n",
            "5 x 3 = 15\n",
            "5 x 4 = 20\n",
            "5 x 5 = 25\n",
            "5 x 6 = 30\n",
            "5 x 7 = 35\n",
            "5 x 8 = 40\n",
            "5 x 9 = 45\n",
            "5 x 10 = 50\n"
          ]
        }
      ]
    },
    {
      "cell_type": "markdown",
      "source": [
        "#### Questão 7\n",
        "Os números primos possuem várias aplicações dentro da Ciência de Dados, por exemplo, na criptografia e segurança. Um número primo é aquele que é divisível apenas por um e por ele mesmo. Faça um programa que peça um número inteiro e determine se ele é ou não um número primo."
      ],
      "metadata": {
        "id": "LeIbnt8VJRdS"
      }
    },
    {
      "cell_type": "code",
      "source": [
        "#coletamos o número\n",
        "num = int(input('Insira um número inteiro: '))\n",
        "\n",
        "# números inteiros iguais ou abaixo de 1 não consideramos primos\n",
        "if num > 1:\n",
        "    for i in range(2, num):\n",
        "        # verificamos todos os restos de divisões entre todos os números abaixo de num\n",
        "        # se algum resto for 0, então ele é divisível por outro número além dele e 1\n",
        "        if (num % i) == 0:\n",
        "            print(f'{num} não é um número primo')\n",
        "            break\n",
        "        else:\n",
        "            print(f'{num} é um número primo')\n",
        "else:\n",
        "    print(f'{num} não é um número primo')"
      ],
      "metadata": {
        "id": "2rcNU7twJRdS"
      },
      "execution_count": null,
      "outputs": []
    },
    {
      "cell_type": "markdown",
      "source": [
        "#### Questão 8\n",
        "Vamos entender a distribuição de idades de pensionistas de uma empresa de previdência. Escreva um programa que leia as idades de uma quantidade não informada de clientes e mostre a distribuição em intervalos de [0-25], [26-50], [51-75] e [76-100]. Encerre a entrada de dados com um número negativo."
      ],
      "metadata": {
        "id": "QTwb6QaCJRdT"
      }
    },
    {
      "cell_type": "code",
      "source": [
        "grupo1 = grupo2 = grupo3 = grupo4 = 0\n",
        "while True:\n",
        "  idade = int(input('Digite a idade: '))\n",
        "  if 0 < idade <= 25:\n",
        "    grupo1 += 1\n",
        "  elif 26 < idade <= 50:\n",
        "    grupo2 += 1\n",
        "  elif 51 < idade <= 75:\n",
        "    grupo3 += 1\n",
        "  else:\n",
        "    grupo4 += 1\n",
        "  if idade < 0:\n",
        "    break\n",
        "\n",
        "print(f'No grupo [0-25] temos {grupo1} pessoas')\n",
        "print(f'No grupo [26-50] temos {grupo2} pessoas')\n",
        "print(f'No grupo [51-75] temos {grupo3} pessoas')\n",
        "print(f'No grupo [76-100] temos {grupo4} pessoas')"
      ],
      "metadata": {
        "id": "4IAhaDmYJRdT",
        "colab": {
          "base_uri": "https://localhost:8080/"
        },
        "outputId": "7aa36f00-c58d-4276-a4af-344920001625"
      },
      "execution_count": null,
      "outputs": [
        {
          "output_type": "stream",
          "name": "stdout",
          "text": [
            "Digite a idade: 5\n",
            "Digite a idade: 96\n",
            "Digite a idade: 54\n",
            "Digite a idade: 23\n",
            "Digite a idade: 12\n",
            "Digite a idade: 26\n",
            "Digite a idade: 45\n",
            "Digite a idade: 54\n",
            "Digite a idade: 43\n",
            "Digite a idade: 21\n",
            "Digite a idade: 68\n",
            "Digite a idade: 74\n",
            "Digite a idade: -9\n",
            "No grupo [0-25] temos 4 pessoas\n",
            "No grupo [26-50] temos 2 pessoas\n",
            "No grupo [51-75] temos 4 pessoas\n",
            "No grupo [76-100] temos 3 pessoas\n"
          ]
        }
      ]
    },
    {
      "cell_type": "markdown",
      "source": [
        "#### Questão 9\n",
        "Em uma eleição para gerência em uma empresa com 20 funcionários, existem quatro candidatos. Escreva um programa que calcule o vencedor da eleição. A votação ocorreu da seguinte maneira:\n",
        "- Cada funcionário votou em um dos quatro candidatos (representados pelos números 1, 2, 3 e 4).\n",
        "- Também foram contabilizados os votos nulos (representado pelo número 5) e os votos em branco (representado pelo número 6).\n",
        "\n",
        "Ao final da votação, o programa deve exibir o total de votos para cada candidato, o número de votos nulos e o número de votos em branco. Além disso, deve calcular e exibir a porcentagem de votos nulos em relação ao total de votos e a porcentagem de votos em branco em relação ao total de votos."
      ],
      "metadata": {
        "id": "soJCQVwRJRdT"
      }
    },
    {
      "cell_type": "code",
      "source": [
        "print('VOTAÇÃO')\n",
        "print('1 ~ 4 - CANDIDATOS')\n",
        "print('5 - NULO')\n",
        "print('6 - BRANCO')\n",
        "print()\n",
        "candidato1 = 0\n",
        "candidato2 = 0\n",
        "candidato3 = 0\n",
        "candidato4 = 0\n",
        "nulo = 0\n",
        "branco = 0\n",
        "for f in range(1, 21):\n",
        "  voto = int(input('Voto:'))\n",
        "  if voto == 1:\n",
        "    candidato1 += 1\n",
        "  elif voto == 2:\n",
        "    candidato2 += 1\n",
        "  elif voto == 3:\n",
        "    candidato3 += 1\n",
        "  elif voto == 4:\n",
        "    candidato4 += 1\n",
        "  elif voto == 5:\n",
        "    nulo += 1\n",
        "  elif voto == 6:\n",
        "    branco += 1\n",
        "print()\n",
        "print('TOTAL DE VOTOS')\n",
        "print(f'Candidato 1: {candidato1}')\n",
        "print(f'Candidato 2: {candidato2}')\n",
        "print(f'Candidato 3: {candidato3}')\n",
        "print(f'Candidato 4: {candidato4}')\n",
        "print(f'Nulos: {nulo}')\n",
        "print(f'Brancos: {branco}')\n",
        "\n",
        "porcentagem_nulos = (nulo * 100) / 20\n",
        "porcentagem_brancos = (branco * 100) / 20\n",
        "\n",
        "print(f'Taxa de votos nulos: {porcentagem_nulos}%')\n",
        "print(f'Taxa de votos em branco: {porcentagem_brancos}%')\n"
      ],
      "metadata": {
        "id": "041EFrgG-4gR",
        "colab": {
          "base_uri": "https://localhost:8080/"
        },
        "outputId": "3fe8ff05-275f-4f74-e446-56c541c1fb0f"
      },
      "execution_count": null,
      "outputs": [
        {
          "output_type": "stream",
          "name": "stdout",
          "text": [
            "VOTAÇÃO\n",
            "1 ~ 4 - CANDIDATOS\n",
            "5 - NULO\n",
            "6 - BRANCO\n",
            "\n",
            "Voto:2\n",
            "Voto:1\n",
            "Voto:5\n",
            "Voto:6\n",
            "Voto:5\n",
            "Voto:4\n",
            "Voto:3\n",
            "Voto:2\n",
            "Voto:1\n",
            "Voto:2\n",
            "Voto:3\n",
            "Voto:4\n",
            "Voto:1\n",
            "Voto:6\n",
            "Voto:5\n",
            "Voto:5\n",
            "Voto:1\n",
            "Voto:2\n",
            "Voto:4\n",
            "Voto:4\n",
            "\n",
            "TOTAL DE VOTOS\n",
            "Candidato 1: 4\n",
            "Candidato 2: 4\n",
            "Candidato 3: 2\n",
            "Candidato 4: 4\n",
            "Nulos: 4\n",
            "Brancos: 2\n",
            "Taxa de votos nulos: 20.0%\n",
            "Taxa de votos em branco: 10.0%\n"
          ]
        }
      ]
    },
    {
      "cell_type": "markdown",
      "source": [
        "## Aula 5 - Estruturas de dados"
      ],
      "metadata": {
        "id": "eijHQiNU2IZ7"
      }
    },
    {
      "cell_type": "markdown",
      "source": [
        "### Aquecendo na programação"
      ],
      "metadata": {
        "id": "92F0bKtBMgd7"
      }
    },
    {
      "cell_type": "markdown",
      "source": [
        "#### Questão 1\n",
        "Faça um programa que tenha a seguinte lista contendo os valores de gastos de uma empresa de papel `[2172.54, 3701.35, 3518.09, 3456.61, 3249.38, 2840.82, 3891.45, 3075.26, 2317.64, 3219.08]`. Com esses valores, faça um programa que calcule a média de gastos. Dica, use as funções built-in [`sum()`](https://docs.python.org/3/library/functions.html#sum) e [`len()`](https://docs.python.org/3/library/functions.html#len)."
      ],
      "metadata": {
        "id": "IypX2ANuMgeC"
      }
    },
    {
      "cell_type": "code",
      "source": [
        "gastos = [2172.54, 3701.35, 3518.09, 3456.61, 3249.38, 2840.82, 3891.45, 3075.26, 2317.64, 3219.08]\n",
        "\n",
        "media = sum(gastos) / len(gastos)\n",
        "\n",
        "print(f'Média de gastos: R${media:.2f}')"
      ],
      "metadata": {
        "id": "ge3LuFhLMgeD",
        "colab": {
          "base_uri": "https://localhost:8080/"
        },
        "outputId": "0e36fb30-8bba-4fb3-d27f-9c8b3247456b"
      },
      "execution_count": null,
      "outputs": [
        {
          "output_type": "stream",
          "name": "stdout",
          "text": [
            "Média de gastos: R$3144.22\n"
          ]
        }
      ]
    },
    {
      "cell_type": "markdown",
      "source": [
        "#### Questão 2\n",
        " Com os mesmos dados da questão anterior, defina quantas compras foram acima de 3000 reais e calcule a porcentagem quanto ao total de compras."
      ],
      "metadata": {
        "id": "xrOeLhQkMgeD"
      }
    },
    {
      "cell_type": "code",
      "source": [
        "quant = 0\n",
        "for valores in gastos:\n",
        "  if valores > 3000:\n",
        "    quant += 1\n",
        "print(f'Compras acima de R$3000: {quant} compras')\n",
        "porcentagem = (quant * 100) / len(gastos)\n",
        "print(f'Equivalente a {porcentagem}% do total de compras')"
      ],
      "metadata": {
        "id": "Ygu5TMZyMgeD",
        "colab": {
          "base_uri": "https://localhost:8080/"
        },
        "outputId": "b040f6f2-41cb-49b8-e46d-fd1284ec0c5f"
      },
      "execution_count": null,
      "outputs": [
        {
          "output_type": "stream",
          "name": "stdout",
          "text": [
            "Compras acima de R$3000: 7 compras\n",
            "Equivalente a 70.0% do total de compras\n"
          ]
        }
      ]
    },
    {
      "cell_type": "markdown",
      "source": [
        "#### Questão 3\n",
        "Faça um código que colete em uma lista 5 números inteiros quaisquer e imprima a lista. Exemplo: `[1,4,7,2,4]`."
      ],
      "metadata": {
        "id": "JgCOrE_BMgeD"
      }
    },
    {
      "cell_type": "code",
      "source": [
        "lista_numeros = []\n",
        "\n",
        "for n in range(1, 6):\n",
        "  numero = int(input('Digite um número: '))\n",
        "  lista_numeros.append(numero)\n",
        "print(lista_numeros)"
      ],
      "metadata": {
        "id": "vtM9O1hLMgeD",
        "colab": {
          "base_uri": "https://localhost:8080/"
        },
        "outputId": "bd492473-5c94-489f-88a1-1a14c508041b"
      },
      "execution_count": null,
      "outputs": [
        {
          "output_type": "stream",
          "name": "stdout",
          "text": [
            "Digite um número: 5\n",
            "Digite um número: 6\n",
            "Digite um número: 7\n",
            "Digite um número: 2\n",
            "Digite um número: 3\n",
            "[5, 6, 7, 2, 3]\n"
          ]
        }
      ]
    },
    {
      "cell_type": "markdown",
      "source": [
        "#### Questão 4\n",
        "Colete novamente 5 inteiros e imprima a lista em ordem inversa à enviada."
      ],
      "metadata": {
        "id": "p3bTp88HMgeD"
      }
    },
    {
      "cell_type": "code",
      "source": [
        "lista_numeros = []\n",
        "\n",
        "for n in range(1, 6):\n",
        "  numero = int(input('Digite um número: '))\n",
        "  lista_numeros.append(numero)\n",
        "print(lista_numeros[::-1])"
      ],
      "metadata": {
        "id": "-CGwMIyHMgeD",
        "colab": {
          "base_uri": "https://localhost:8080/"
        },
        "outputId": "b7060ebe-a5ff-4aff-dec5-3d5addd53b0b"
      },
      "execution_count": null,
      "outputs": [
        {
          "output_type": "stream",
          "name": "stdout",
          "text": [
            "Digite um número: 5\n",
            "Digite um número: 9\n",
            "Digite um número: 1\n",
            "Digite um número: 4\n",
            "Digite um número: 6\n",
            "[6, 4, 1, 9, 5]\n"
          ]
        }
      ]
    },
    {
      "cell_type": "markdown",
      "source": [
        "#### Questão 5\n",
        "Faça um programa que, ao inserir um número qualquer, criará uma lista contendo todos os números primos entre 1 e o número digitado."
      ],
      "metadata": {
        "id": "eIXd_z1lMgeD"
      }
    },
    {
      "cell_type": "code",
      "source": [
        "# Coletamos o números\n",
        "numero = int(input('Digite um número inteiro: '))\n",
        "# Lista para receber os números primos\n",
        "lista_primos = []\n",
        "# Laço que vai rodar por todos os números abaixo do número digitado\n",
        "for num in range(2, numero):\n",
        "  # Primo é uma bandeira, ela permite sabermos se o valor analisado é ou não primo\n",
        "  primo = True\n",
        "  # Testamos se todos os números abaixo do especificado no primeiro laço podem\n",
        "  # gerar uma divisão exata\n",
        "  for teste_divisiveis in range(2, num):\n",
        "    if num % teste_divisiveis == 0:\n",
        "      # Caso seja divisivel por algum número entendemos que\n",
        "      # o num não é primo e finalizamos o laço interno com break\n",
        "      primo = False\n",
        "      break\n",
        "  # A condição se torna o resultado booleno de primo: False, ignoramos o condicional\n",
        "  # True, executamos o bloco do if\n",
        "  if primo:\n",
        "    lista_primos.append(num)\n",
        "# Resultado\n",
        "print(f'Lista de números primos: {lista_primos}')"
      ],
      "metadata": {
        "id": "rj_6GHstMgeE"
      },
      "execution_count": null,
      "outputs": []
    },
    {
      "cell_type": "markdown",
      "source": [
        "#### Questão 6\n",
        "Escreva um programa que peça uma data informando o dia, mês e ano e determine se ela é uma data válida para uma análise."
      ],
      "metadata": {
        "id": "zrbz3ENlMgeE"
      }
    },
    {
      "cell_type": "code",
      "source": [
        "# Coletamos a data\n",
        "dia = int(input('Digite o dia: '))\n",
        "mes = int(input('Digite o mês: '))\n",
        "ano = int(input('Digite o ano: '))\n",
        "\n",
        "# Análise de fevereiro\n",
        "if mes == 2:\n",
        "  # Verificamos se é ou não um ano bissexto\n",
        "  if ano % 4 == 0 and (ano % 400 == 0 or ano % 100 != 0):\n",
        "    dias_fevereiro = 29\n",
        "  else:\n",
        "    dias_fevereiro = 28\n",
        "  # Verificamos se o dia colocado corresponde ao máximo de dias de fevereiro\n",
        "  if dia >= 1 and dia <= dias_fevereiro:\n",
        "    print('Data válida')\n",
        "  else:\n",
        "    print('Data inválida')\n",
        "# Verificamos meses terminados em 31 dias\n",
        "elif mes in [1, 3, 5, 7, 8, 10, 12]:\n",
        "  if dia >= 1 and dia <= 31:\n",
        "    print('Data válida')\n",
        "  else:\n",
        "    print('Data inválida')\n",
        "# Verificamos meses terminados em 30 dias\n",
        "elif mes in [4, 6, 9, 11]:\n",
        "  if dia >= 1 and dia <= 30:\n",
        "    print('Data válida')\n",
        "  else:\n",
        "    print('Data inválida')\n",
        "# Caso o mês não esteja entre 1 e 12\n",
        "else:\n",
        "  print('Data inválida')"
      ],
      "metadata": {
        "id": "0eYA8UjTMgeE",
        "colab": {
          "base_uri": "https://localhost:8080/"
        },
        "outputId": "6f77b3a8-40fb-44ae-f8ef-59654a3fa9aa"
      },
      "execution_count": null,
      "outputs": [
        {
          "output_type": "stream",
          "name": "stdout",
          "text": [
            "Digite o dia: 23\n",
            "Digite o mês: 5\n",
            "Digite o ano: 2006\n",
            "Data válida\n"
          ]
        }
      ]
    },
    {
      "cell_type": "markdown",
      "source": [
        "### Momento dos projetos"
      ],
      "metadata": {
        "id": "ut_4VHdGMgeE"
      }
    },
    {
      "cell_type": "markdown",
      "source": [
        "#### Questão 7\n",
        "Para um estudo envolvendo o nível de multiplicação de bactérias em uma colônia, foi coletado o número de bactérias multiplicadas por dia, com base em um processo de duplicação diária e pode ser observado a seguir: `[1.2, 2.1, 3.3, 5.0, 7.8, 11.3, 16.6, 25.1, 37.8, 56.9]`. Tendo esses valores, faça um código que gere uma lista contendo o percentual de crescimento de bactérias por dia, comparando o número de bactérias em cada dia com o número de bactérias do dia anterior. Dica: para calcular o percentual de crescimento usamos a seguinte equação: `100 * (amostra_atual - amostra_passada) / (amostra_passada)`."
      ],
      "metadata": {
        "id": "G86Z0vD_MgeE"
      }
    },
    {
      "cell_type": "code",
      "source": [
        "# Lista de crescimento das bactérias\n",
        "bacterias_colonia = [1.2, 2.1, 3.3, 5.0, 7.8, 11.3, 16.6, 25.1, 37.8, 56.9]\n",
        "# Lista que irá armazenar as porcentagens de crescimento\n",
        "porcentagem_crescimento = []\n",
        "# Vamos percorrer os índices de 1 a 9 para compararmos o valor atual com o passado\n",
        "for i in range(1, len(bacterias_colonia)):\n",
        "  # seguimos o cálculo 100 * (amostra_atual - amostra_passada) / (amostra_passada)\n",
        "  porcentagem = 100 * (bacterias_colonia[i] - bacterias_colonia[i-1]) / (bacterias_colonia[i-1])\n",
        "  # adicionamos o resultado na lista porcentagem_crescimento\n",
        "  porcentagem_crescimento.append(porcentagem)\n",
        "# Resultado\n",
        "print(f'Porcentagens de crescimento:\\n{porcentagem_crescimento}')\n",
        "\n"
      ],
      "metadata": {
        "id": "PXNO_CFkMgeE",
        "colab": {
          "base_uri": "https://localhost:8080/"
        },
        "outputId": "11d78551-2098-431c-c0da-be6d582da5f1"
      },
      "execution_count": null,
      "outputs": [
        {
          "output_type": "stream",
          "name": "stdout",
          "text": [
            "Porcentagens de crescimento:\n",
            "[75.00000000000001, 57.142857142857125, 51.51515151515153, 56.0, 44.87179487179489, 46.90265486725664, 51.20481927710843, 50.59760956175297, 50.52910052910054]\n"
          ]
        }
      ]
    },
    {
      "cell_type": "markdown",
      "source": [
        "#### Questão 8\n",
        "Para uma seleção de produtos alimentícios, precisamos separar o conjunto de IDs dados por números inteiros, sabendo que os produtos com ID par são doces e os com ID ímpar são amargos. Monte um código que colete 10 IDs. Depois, calcule e mostre a quantidade de produtos doces e amargos."
      ],
      "metadata": {
        "id": "p4nxogpnMgeE"
      }
    },
    {
      "cell_type": "code",
      "source": [
        "# Lista que vai receber os valores de IDs\n",
        "ids = []\n",
        "# Variáveis contadoras de doces e amargos\n",
        "doce = 0\n",
        "amargo = 0\n",
        "\n",
        "# Criamos um laço que vai iterar 10 vezes para receber os 10 IDs\n",
        "for i in range(0,10):\n",
        "  # Coletamos o ID e adicionamos o id na lista\n",
        "  ids.append(int(input(f'Digite o {i+1}° ID: ')))\n",
        "\n",
        "# Ler todos os elementos da lista ids e atribuir à id\n",
        "for id in ids:\n",
        "  # Verificamos se os elementos são pares ou ímpares para fazer a contagem\n",
        "  if id % 2 == 0:\n",
        "    doce += 1\n",
        "  else:\n",
        "    amargo += 1\n",
        "\n",
        "# Resultado\n",
        "print(f'Quantidade de produtos doces: {doce}')\n",
        "print(f'Quantidade de produtos amargos: {amargo}')"
      ],
      "metadata": {
        "id": "WqjO2SZkMgeE"
      },
      "execution_count": null,
      "outputs": []
    },
    {
      "cell_type": "markdown",
      "source": [
        "#### Questão 9\n",
        "Desenvolva um programa que informa a nota de um aluno de acordo com suas respostas. Ele deve pedir a resposta de um aluno para cada questão e é preciso verificar se a resposta foi igual ao gabarito. Cada questão vale um ponto e existem alternativas:  A, B, C ou D.\n",
        "```\n",
        "Gabarito da Prova:\n",
        "01 - D\n",
        "02 - A\n",
        "03 - C\n",
        "04 - B\n",
        "05 - A\n",
        "06 - D\n",
        "07 - C\n",
        "08 - C\n",
        "09 - A\n",
        "10 - B\n",
        "```"
      ],
      "metadata": {
        "id": "t5OrLxV6MgeE"
      }
    },
    {
      "cell_type": "code",
      "source": [
        "gabarito = ['D', 'A', 'C', 'B', 'A', 'D', 'C', 'C', 'A', 'B']\n",
        "nota = 0\n",
        "\n",
        "for i in range(0, len(gabarito)):\n",
        "  resposta = input(f'{i+1}º Resposta: ').strip().upper()\n",
        "  while resposta not in 'ABCD':\n",
        "    resposta = input(f'Digite novamente a {i+1}º Resposta: ').strip().upper()\n",
        "  if resposta == gabarito[i]:\n",
        "    nota +=1\n",
        "\n",
        "print(f'Sua nota: {nota}')\n",
        "\n"
      ],
      "metadata": {
        "id": "ytIQDJrQMgeE",
        "colab": {
          "base_uri": "https://localhost:8080/"
        },
        "outputId": "96741cc5-b072-4dfa-c60e-bc4163ac1ced"
      },
      "execution_count": null,
      "outputs": [
        {
          "output_type": "stream",
          "name": "stdout",
          "text": [
            "1º Resposta: S\n",
            "Digite novamente a 1º Resposta: C\n",
            "2º Resposta: V\n",
            "Digite novamente a 2º Resposta: V\n",
            "Digite novamente a 2º Resposta: V\n",
            "Digite novamente a 2º Resposta: T\n",
            "Digite novamente a 2º Resposta: A\n",
            "3º Resposta: D\n",
            "4º Resposta: C\n",
            "5º Resposta: A\n",
            "6º Resposta: B\n",
            "7º Resposta: B\n",
            "8º Resposta: A\n",
            "9º Resposta: C\n",
            "10º Resposta: C\n",
            "Sua nota: 2\n"
          ]
        }
      ]
    },
    {
      "cell_type": "markdown",
      "source": [
        "#### Questão 10\n",
        "Um instituto de meteorologia deseja fazer um estudo de temperatura média de cada mês do ano. Para isso, você precisa fazer um código que colete e armazene essas temperaturas médias em uma lista. Depois, calcule a média anual das temperaturas e mostre todas as temperaturas acima da média anual, e em que mês elas ocorreram, mostrando os meses por extenso: Janeiro, Fevereiro, etc."
      ],
      "metadata": {
        "id": "aSBMzh-AMgeF"
      }
    },
    {
      "cell_type": "code",
      "source": [
        "temperaturas_medias = []\n",
        "meses = ['Janeiro', 'Fevereiro', 'Março', 'Abril', 'Maio', 'Junho', 'Julho', 'Agosto', 'Setembro', 'Outubro', 'Novembro', 'Dezembro']\n",
        "for i in range(0, 12):\n",
        "  temperatura_mes = float(input(f'Temperatura média no mes {i+1}: '))\n",
        "  temperaturas_medias.append(temperatura_mes)\n",
        "\n",
        "media_anual = sum(temperaturas_medias) / len(temperaturas_medias)\n",
        "\n",
        "print('Temperatura acima da média em: ')\n",
        "for i in range(0, 12):\n",
        "  if temperaturas_medias[i] > media_anual:\n",
        "    print(meses[i])\n"
      ],
      "metadata": {
        "id": "ftj04s2uMgeF",
        "colab": {
          "base_uri": "https://localhost:8080/"
        },
        "outputId": "aceb8445-9b7d-4af3-f771-2f374ad31ed9"
      },
      "execution_count": null,
      "outputs": [
        {
          "output_type": "stream",
          "name": "stdout",
          "text": [
            "Temperatura média no mes 1: 22\n",
            "Temperatura média no mes 2: 20\n",
            "Temperatura média no mes 3: 21\n",
            "Temperatura média no mes 4: 25\n",
            "Temperatura média no mes 5: 30\n",
            "Temperatura média no mes 6: 21\n",
            "Temperatura média no mes 7: 19\n",
            "Temperatura média no mes 8: 16\n",
            "Temperatura média no mes 9: 15\n",
            "Temperatura média no mes 10: 25\n",
            "Temperatura média no mes 11: 30\n",
            "Temperatura média no mes 12: 33\n",
            "Temperatura acima da média em: \n",
            "Abril\n",
            "Maio\n",
            "Outubro\n",
            "Novembro\n",
            "Dezembro\n"
          ]
        }
      ]
    },
    {
      "cell_type": "markdown",
      "source": [
        "#### Questão 11\n",
        "Uma empresa de e-commerce está interessada em analisar as vendas dos seus produtos. Os dados das vendas foram armazenados em um dicionário:\n",
        "```\n",
        "{'Produto A': 300, 'Produto B': 80, 'Produto C': 60,\n",
        " 'Produto D': 200, 'Produto E': 250, 'Produto F': 30}\n",
        "```\n",
        "Escreva um código que calcule o total de vendas e o produto mais vendido."
      ],
      "metadata": {
        "id": "0X8S6s4jMgeF"
      }
    },
    {
      "cell_type": "code",
      "source": [
        "# Dicionário de vendas\n",
        "dados_vendas = {'Produto A': 300, 'Produto B': 80, 'Produto C': 60, 'Produto D': 200, 'Produto E': 250, 'Produto F': 30}\n",
        "\n",
        "# Inicializamos as variáveis\n",
        "total_vendas = 0 # Irá somar todos as vendas\n",
        "produto_mais_vendido = '' # Irá armazenar o nome do produto mais vendido\n",
        "unidades_produto_mais_vendido = 0 # Irá armazenar a maior quantidade vendas\n",
        "\n",
        "# Percorremos os valores de chaves e elementos do dicionário\n",
        "for produto in dados_vendas.keys():\n",
        "  # Somamos o total de vendas\n",
        "  total_vendas += dados_vendas[produto]\n",
        "  # Verificamos se valor de venda atual desing (dados_vendas[produto]) é maior que o valor armazenado em unidades_produto_mais_vendido\n",
        "  # Cada vez que dados_vendas[produto] superar o valor em unidades_produto_mais_vendido,\n",
        "  # a variável unidades_produto_mais_vendido vai ser igual à dados_vendas[produto], atribuindo um novo valor\n",
        "  # De forma similar, produto_mais_vendido também é substituído pelo produto atual\n",
        "  if dados_vendas[produto] > unidades_produto_mais_vendido:\n",
        "    unidades_produto_mais_vendido = dados_vendas[produto]\n",
        "    produto_mais_vendido = produto\n",
        "# Resultados\n",
        "print(f'Total de vendas é {total_vendas}')\n",
        "print(f'{produto_mais_vendido} é o mais vendido')\n"
      ],
      "metadata": {
        "id": "Xa3DJLtFMgeF",
        "colab": {
          "base_uri": "https://localhost:8080/"
        },
        "outputId": "ca09f5a2-dfa4-4bc1-d409-ed7479cf4c1a"
      },
      "execution_count": 3,
      "outputs": [
        {
          "output_type": "stream",
          "name": "stdout",
          "text": [
            "Total de vendas é 920\n",
            "Produto A é o mais vendido\n"
          ]
        }
      ]
    },
    {
      "cell_type": "markdown",
      "source": [
        "#### Questão 12\n",
        "Uma pesquisa de mercado foi feita para decidir qual design de uma marca infantil mais agrada crianças. A pesquisa foi feita e o votos computados podem ser observados abaixo:\n",
        "```\n",
        "'''\n",
        "Tabela de votos da marca\n",
        "Design 1 - 1334 votos\n",
        "Design 2 - 982 votos\n",
        "Design 3 - 1751 votos\n",
        "Design 4 - 210 votos\n",
        "Design 5 - 1811 votos\n",
        "'''\n",
        "```\n",
        "Adapte os dados fornecidos a você para uma estrutura de dicionário e a partir dele, informe o design vencedor e a porcentagem de votos recebidos.\n"
      ],
      "metadata": {
        "id": "nrEwf_1ZMgeF"
      }
    },
    {
      "cell_type": "code",
      "source": [
        "# Dicionário de votos por design\n",
        "votos = {'Design 1': 1334, 'Design 2': 982, 'Design 3': 1751, 'Design 4': 210, 'Design 5': 1811}\n",
        "\n",
        "# Inicializamos as variáveis\n",
        "total_votos = 0 # Irá somar todos os votos\n",
        "vencedor = '' # Irá armazenar o nome do design vencedor\n",
        "voto_vencedor = 0 # Irá armazenar a quantidade vencedora de votos\n",
        "\n",
        "# Percorremos os valores de chaves e elementos do dicionário\n",
        "for design, voto_desing in votos.items():\n",
        "  # Somamos o total de votos\n",
        "  total_votos += voto_desing\n",
        "  # Verificamos se o voto do atual desing (voto_desing) é maior que o valor armazenado em voto_vencedor\n",
        "  # Cada vez que voto_desing superar o valor em voto_vencedor,\n",
        "  # a variável voto_vencedor vai ser igual à voto_desing, atribuindo um novo valor\n",
        "  # De forma similar, o vencedor também é substituído pelo design\n",
        "  if voto_desing > voto_vencedor:\n",
        "    voto_vencedor = voto_desing\n",
        "    vencedor = design\n",
        "# Calculamos a porcentagem do design vencedor\n",
        "porcentagem = 100 * (voto_vencedor) / (total_votos)\n",
        "\n",
        "#Resultado\n",
        "print(f'{vencedor} é o vencedor: ')\n",
        "print(f'Porcentagem de votos: {porcentagem}%')\n",
        "\n",
        "\n",
        "\n"
      ],
      "metadata": {
        "id": "MRPcGR-_MgeF",
        "colab": {
          "base_uri": "https://localhost:8080/"
        },
        "outputId": "40bf61b1-39b1-4047-fd43-c09ec2637231"
      },
      "execution_count": 8,
      "outputs": [
        {
          "output_type": "stream",
          "name": "stdout",
          "text": [
            "Design 5 é o vencedor: \n",
            "Porcentagem de votos: 29.747043363994745%\n"
          ]
        }
      ]
    },
    {
      "cell_type": "markdown",
      "source": [
        "#### Questão 13\n",
        "Os funcionários de um setor da empresa que você trabalha vão receber um abono correspondente a 10% do seu salário devido ao ótimo desempenho do time. O setor financeiro solicitou sua ajuda para a verificação das consequências financeiras que esse abono irá gerar nos recursos. Assim, foi encaminhada para você uma lista com os salários que receberão o abono: `[1172, 1644, 2617, 5130, 5532, 6341, 6650, 7238, 7685, 7782, 7903]`. O abono de cada funcionário não pode ser inferior a 200. Em código, transforme cada um dos salários em chaves de um dicionário e o abono de cada salário no elemento. Depois, informe o total de gastos com o abono, quantos funcionários receberam o abono mínimo e qual o maior valor de abono fornecido.\n"
      ],
      "metadata": {
        "id": "HRTFFzKIMgeF"
      }
    },
    {
      "cell_type": "code",
      "source": [
        "# Lista de salários\n",
        "salarios = [1172, 1644, 2617, 5130, 5532, 6341, 6650, 7238, 7685, 7782, 7903]\n",
        "# Inicializamos as variáveis\n",
        "dic_abonos = {} # Dicionário de abonos\n",
        "total_abono = 0 # Irá somar todos os gastos com abono\n",
        "abonos_minimo = 0 # Irá armazenar a quantidade de abonos mínimos\n",
        "maior_abono = 0 # Irá armazenar o maior valor de abono\n",
        "\n",
        "# Percorremos toda a lista de salários\n",
        "for salario in salarios:\n",
        "  # Calculamos o valor teórico de abono\n",
        "  abono = salario * 0.1\n",
        "  # Caso o abono seja inferior a 200,\n",
        "  # ajustamos o valor de abono para o mínimo (200)\n",
        "  if abono < 200:\n",
        "    abono = 200\n",
        "  # Adicionamos um novo dado no dicionário chave abono\n",
        "  dic_abonos[salario] = abono\n",
        "\n",
        "# Percorremos todos os valores do dicionário de abonos\n",
        "for abono in dic_abonos.values():\n",
        "  # Contamos o salário minimo\n",
        "  if abono == 200:\n",
        "    abonos_minimo += 1\n",
        "  # Verificamos se o abono lido é maior que o valor armazenado em maior_abono\n",
        "  # Cada vez que o abono superar o valor de maior_abono,\n",
        "  # a variável maior_abono vai ser igual à abono, atribuindo um novo valor\n",
        "  if abono > maior_abono:\n",
        "    maior_abono = abono\n",
        "  # Somamos os abonos\n",
        "  total_abono += abono\n",
        "# Resultados\n",
        "print(f'Abonos: {dic_abonos}')\n",
        "print(f'Total de gasto com abonos: {total_abono}')\n",
        "print(f'Número de funcionários que receberam o abono mínimo: {abonos_minimo}')\n",
        "print(f'Maior valor de abono: {maior_abono}')\n"
      ],
      "metadata": {
        "id": "QsDSCua42bLB",
        "colab": {
          "base_uri": "https://localhost:8080/"
        },
        "outputId": "e07b7c3d-7f7b-48a3-ae54-ff50757af58c"
      },
      "execution_count": 9,
      "outputs": [
        {
          "output_type": "stream",
          "name": "stdout",
          "text": [
            "Abonos: {1172: 200, 1644: 200, 2617: 261.7, 5130: 513.0, 5532: 553.2, 6341: 634.1, 6650: 665.0, 7238: 723.8000000000001, 7685: 768.5, 7782: 778.2, 7903: 790.3000000000001}\n",
            "Total de gasto com abonos: 6087.8\n",
            "Número de funcionários que receberam o abono mínimo: 2\n",
            "Maior valor de abono: 790.3000000000001\n"
          ]
        }
      ]
    },
    {
      "cell_type": "markdown",
      "source": [
        "#### Questão 14\n",
        "Uma equipe de cientistas de dados está estudando a diversidade biológica em uma floresta. A equipe fez a coleta de informações sobre o número de espécies de plantas e animais em cada área da floresta e armazenaram essas informações em um dicionário. Nele, a chave descreve a área dos dados e os valores nas listas correspondem às espécies de plantas e animais nas áreas, respectivamente.\n",
        "```\n",
        "{'Área Norte': [2819, 7236],\n",
        " 'Área Leste': [1440, 9492],\n",
        " 'Área Sul': [5969, 7496],\n",
        " 'Área Oeste': [14446, 49688],\n",
        " 'Área Centro': [22558, 45148]}\n",
        "```\n",
        "Escreva um código para calcular a média de espécies por área e identificar a área com a maior diversidade biológica. Dica: use as funções built-in [`sum()`](https://docs.python.org/3/library/functions.html#sum) e [`len()`](https://docs.python.org/3/library/functions.html#len).\n"
      ],
      "metadata": {
        "id": "6dEXZEwjMlWy"
      }
    },
    {
      "cell_type": "code",
      "source": [
        "# Especificamos os dados para um dicionário\n",
        "dados = {'Área Norte': [2819, 7236],\n",
        "         'Área Leste': [1440, 9492],\n",
        "         'Área Sul': [5969, 7496],\n",
        "         'Área Oeste': [14446, 49688],\n",
        "         'Área Centro': [22558, 45148]}\n",
        "# Inicializamos as variáveis\n",
        "soma_media = 0 # Irá somar todas as médias\n",
        "maior_diversidade = '' # Irá armazenar a área com maior diversidade\n",
        "maior_soma = 0 # Irá armazenar a maior soma de espécies\n",
        "# Percorremos os valores de chaves e elementos do dicionário\n",
        "for area, especies in dados.items():\n",
        "  # Fazemos a soma do números de espécies em cada área com a função sum\n",
        "  soma_especies = sum(especies)\n",
        "  # Calculamos a média dividindo a soma das espécies pela quantidade de espécies\n",
        "  media = soma_especies / len(especies)\n",
        "  # Imprimimos\n",
        "  print(f'A {area} tem a média de {media} espécies')\n",
        "  # Verificamos se a soma das espécies é maior que o valor armazenado de maior_soma\n",
        "  # Cada vez que a soma_especies superar o valor de maior_soma,\n",
        "  # a variável maior_soma vai ser igual à soma_especies, atribuindo um novo valor\n",
        "  # De forma similar, maior_diversidade também é substituída\n",
        "  if soma_especies > maior_soma:\n",
        "      maior_soma = soma_especies\n",
        "      maior_diversidade = area\n",
        "  # Somamos as médias\n",
        "  soma_media += media\n",
        "# A média total será dada pela soma_media dividida pela quantidade de áreas\n",
        "media_total = soma_media / len(dados)\n",
        "print(f'Média geral de espécies: {media_total}')\n",
        "print(f'Área com a maior diversidade biológica: {maior_diversidade}')\n",
        "\n"
      ],
      "metadata": {
        "id": "eQnOUDfYMlWy",
        "colab": {
          "base_uri": "https://localhost:8080/"
        },
        "outputId": "46762199-4aee-4db9-bba4-f8a6768a145c"
      },
      "execution_count": 10,
      "outputs": [
        {
          "output_type": "stream",
          "name": "stdout",
          "text": [
            "A Área Norte tem a média de 5027.5 espécies\n",
            "A Área Leste tem a média de 5466.0 espécies\n",
            "A Área Sul tem a média de 6732.5 espécies\n",
            "A Área Oeste tem a média de 32067.0 espécies\n",
            "A Área Centro tem a média de 33853.0 espécies\n",
            "Média geral de espécies: 16629.2\n",
            "Área com a maior diversidade biológica: Área Centro\n"
          ]
        }
      ]
    },
    {
      "cell_type": "markdown",
      "source": [
        "#### Questão 15\n",
        "O setor de RH da sua empresa te pediu uma ajuda para analisar as idades dos funcionários de 4 setores da empresa. Para isso, ele te forneceu os seguintes dados:\n",
        "```\n",
        "{'Setor A': [22, 26, 30, 30, 35, 38, 40, 56, 57, 65],\n",
        " 'Setor B': [22, 24, 26, 33, 41, 49, 50, 54, 60, 64],\n",
        " 'Setor C': [23, 26, 26, 29, 34, 35, 36, 41, 52, 56],\n",
        " 'Setor D': [19, 20, 25, 27, 34, 39, 42, 44, 50, 65]}\n",
        "```\n",
        "Sabendo que cada setor tem 10 funcionários, construa um código que calcule a média de idade de cada setor, a idade média geral entre todos os setores e quantas pessoas estão acima da idade média geral.\n"
      ],
      "metadata": {
        "id": "r0RW2Sy_MlWy"
      }
    },
    {
      "cell_type": "code",
      "source": [
        "idades = {'Setor A': [22, 26, 30, 30, 35, 38, 40, 56, 57, 65],\n",
        " 'Setor B': [22, 24, 26, 33, 41, 49, 50, 54, 60, 64],\n",
        " 'Setor C': [23, 26, 26, 29, 34, 35, 36, 41, 52, 56],\n",
        " 'Setor D': [19, 20, 25, 27, 34, 39, 42, 44, 50, 65]}\n",
        "\n",
        "media_setor = 0\n",
        "soma_setores = 0\n",
        "contador = 0\n",
        "acima_idade = 0\n",
        "\n",
        "for setor, idade in idades.items():\n",
        "  media_setor = sum(idade)/ len(idade)\n",
        "  soma_setores += media_setor\n",
        "  contador += 1\n",
        "  print(f'O setor {setor} tem a média de idade de {media_setor:.0f}')\n",
        "\n",
        "media_total = soma_setores / contador\n",
        "\n",
        "print(f'A média de idade entre todos os setores é de {media_total:.0f}')\n",
        "\n",
        "for idade in idades.values():\n",
        "  for valores in idade:\n",
        "    if valores > media_total:\n",
        "      acima_idade += 1\n",
        "print(f'Ao total, temos {acima_idade} pessoas acima da média geral da empresa')\n"
      ],
      "metadata": {
        "id": "wCiwyKP3MmTz",
        "colab": {
          "base_uri": "https://localhost:8080/"
        },
        "outputId": "60712825-fe17-4c41-a46e-67d22aa0b19d"
      },
      "execution_count": 29,
      "outputs": [
        {
          "output_type": "stream",
          "name": "stdout",
          "text": [
            "O setor Setor A tem a média de idade de 40\n",
            "O setor Setor B tem a média de idade de 42\n",
            "O setor Setor C tem a média de idade de 36\n",
            "O setor Setor D tem a média de idade de 36\n",
            "A média de idade entre todos os setores é de 39\n",
            "Ao total, temos 18 pessoas acima da média geral da empresa\n"
          ]
        }
      ]
    }
  ]
}